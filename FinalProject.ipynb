{
  "nbformat": 4,
  "nbformat_minor": 0,
  "metadata": {
    "colab": {
      "name": "FinalProject.ipynb",
      "provenance": [],
      "collapsed_sections": [],
      "toc_visible": true,
      "include_colab_link": true
    },
    "kernelspec": {
      "display_name": "Python 3",
      "name": "python3"
    },
    "language_info": {
      "name": "python"
    }
  },
  "cells": [
    {
      "cell_type": "markdown",
      "metadata": {
        "id": "view-in-github",
        "colab_type": "text"
      },
      "source": [
        "<a href=\"https://colab.research.google.com/github/Kha1135123/Final-Project/blob/main/FinalProject.ipynb\" target=\"_parent\"><img src=\"https://colab.research.google.com/assets/colab-badge.svg\" alt=\"Open In Colab\"/></a>"
      ]
    },
    {
      "cell_type": "markdown",
      "metadata": {
        "id": "4U5jPAcFimJc"
      },
      "source": [
        "# Import Data "
      ]
    },
    {
      "cell_type": "markdown",
      "metadata": {
        "id": "YQCHKi7zocJr"
      },
      "source": [
        "Source Data: https://www.kaggle.com/shuyangli94/food-com-recipes-and-user-interactions?select=RAW_recipes.csv\n"
      ]
    },
    {
      "cell_type": "code",
      "metadata": {
        "colab": {
          "base_uri": "https://localhost:8080/"
        },
        "id": "5penV66IrYqD",
        "outputId": "65e374be-59ca-4921-b72a-1190618a2d76"
      },
      "source": [
        "from google.colab import drive\n",
        "drive.mount('/content/drive')"
      ],
      "execution_count": null,
      "outputs": [
        {
          "output_type": "stream",
          "text": [
            "Drive already mounted at /content/drive; to attempt to forcibly remount, call drive.mount(\"/content/drive\", force_remount=True).\n"
          ],
          "name": "stdout"
        }
      ]
    },
    {
      "cell_type": "code",
      "metadata": {
        "colab": {
          "base_uri": "https://localhost:8080/"
        },
        "id": "vFJtxg0h6wox",
        "outputId": "3917952e-9922-4fe2-d60d-a3e1762ac134"
      },
      "source": [
        "!unzip '/content/drive/MyDrive/archive (1).zip'"
      ],
      "execution_count": null,
      "outputs": [
        {
          "output_type": "stream",
          "text": [
            "Archive:  /content/drive/MyDrive/archive (1).zip\n",
            "replace PP_recipes.csv? [y]es, [n]o, [A]ll, [N]one, [r]ename: "
          ],
          "name": "stdout"
        }
      ]
    },
    {
      "cell_type": "markdown",
      "metadata": {
        "id": "OCKPlipViv10"
      },
      "source": [
        "# Data Preprocessing\n"
      ]
    },
    {
      "cell_type": "code",
      "metadata": {
        "id": "r19-7CVe6isr"
      },
      "source": [
        "# import basic libraries\n",
        "import numpy as np\n",
        "import pandas as pd\n",
        "import tensorflow\n",
        "import matplotlib.pyplot as plt\n",
        "import warnings\n",
        "warnings.filterwarnings('ignore')\n",
        "import seaborn as sns\n",
        "sns.set()"
      ],
      "execution_count": 235,
      "outputs": []
    },
    {
      "cell_type": "markdown",
      "metadata": {
        "id": "TMZ4HUijT-PL"
      },
      "source": [
        "#### Download Data\n"
      ]
    },
    {
      "cell_type": "code",
      "metadata": {
        "id": "nCRlQCfF6pLr"
      },
      "source": [
        "df_raw_recipe = pd.read_csv('/content/RAW_recipes.csv')\n",
        "#df_raw_recipe.head()"
      ],
      "execution_count": 236,
      "outputs": []
    },
    {
      "cell_type": "code",
      "metadata": {
        "id": "lx83qev97CfR"
      },
      "source": [
        "df_PP_recipe = pd.read_csv('/content/PP_recipes.csv')\n"
      ],
      "execution_count": 237,
      "outputs": []
    },
    {
      "cell_type": "code",
      "metadata": {
        "colab": {
          "base_uri": "https://localhost:8080/",
          "height": 285
        },
        "id": "u8QV6yBYDHYa",
        "outputId": "28d4499a-c884-419c-af69-7682c33ec68b"
      },
      "source": [
        "df_PP_recipe.head()"
      ],
      "execution_count": 238,
      "outputs": [
        {
          "output_type": "execute_result",
          "data": {
            "text/html": [
              "<div>\n",
              "<style scoped>\n",
              "    .dataframe tbody tr th:only-of-type {\n",
              "        vertical-align: middle;\n",
              "    }\n",
              "\n",
              "    .dataframe tbody tr th {\n",
              "        vertical-align: top;\n",
              "    }\n",
              "\n",
              "    .dataframe thead th {\n",
              "        text-align: right;\n",
              "    }\n",
              "</style>\n",
              "<table border=\"1\" class=\"dataframe\">\n",
              "  <thead>\n",
              "    <tr style=\"text-align: right;\">\n",
              "      <th></th>\n",
              "      <th>id</th>\n",
              "      <th>i</th>\n",
              "      <th>name_tokens</th>\n",
              "      <th>ingredient_tokens</th>\n",
              "      <th>steps_tokens</th>\n",
              "      <th>techniques</th>\n",
              "      <th>calorie_level</th>\n",
              "      <th>ingredient_ids</th>\n",
              "    </tr>\n",
              "  </thead>\n",
              "  <tbody>\n",
              "    <tr>\n",
              "      <th>0</th>\n",
              "      <td>424415</td>\n",
              "      <td>23</td>\n",
              "      <td>[40480, 37229, 2911, 1019, 249, 6878, 6878, 28...</td>\n",
              "      <td>[[2911, 1019, 249, 6878], [1353], [6953], [153...</td>\n",
              "      <td>[40480, 40482, 21662, 481, 6878, 500, 246, 161...</td>\n",
              "      <td>[0, 0, 0, 0, 0, 0, 0, 0, 0, 1, 0, 0, 0, 0, 0, ...</td>\n",
              "      <td>0</td>\n",
              "      <td>[389, 7655, 6270, 1527, 3406]</td>\n",
              "    </tr>\n",
              "    <tr>\n",
              "      <th>1</th>\n",
              "      <td>146223</td>\n",
              "      <td>96900</td>\n",
              "      <td>[40480, 18376, 7056, 246, 1531, 2032, 40481]</td>\n",
              "      <td>[[17918], [25916], [2507, 6444], [8467, 1179],...</td>\n",
              "      <td>[40480, 40482, 729, 2525, 10906, 485, 43, 8393...</td>\n",
              "      <td>[1, 0, 0, 0, 0, 0, 0, 0, 0, 1, 0, 0, 0, 0, 0, ...</td>\n",
              "      <td>0</td>\n",
              "      <td>[2683, 4969, 800, 5298, 840, 2499, 6632, 7022,...</td>\n",
              "    </tr>\n",
              "    <tr>\n",
              "      <th>2</th>\n",
              "      <td>312329</td>\n",
              "      <td>120056</td>\n",
              "      <td>[40480, 21044, 16954, 8294, 556, 10837, 40481]</td>\n",
              "      <td>[[5867, 24176], [1353], [6953], [1301, 11332],...</td>\n",
              "      <td>[40480, 40482, 8240, 481, 24176, 296, 1353, 66...</td>\n",
              "      <td>[0, 0, 0, 0, 1, 0, 0, 0, 0, 0, 0, 1, 0, 0, 0, ...</td>\n",
              "      <td>1</td>\n",
              "      <td>[1257, 7655, 6270, 590, 5024, 1119, 4883, 6696...</td>\n",
              "    </tr>\n",
              "    <tr>\n",
              "      <th>3</th>\n",
              "      <td>74301</td>\n",
              "      <td>168258</td>\n",
              "      <td>[40480, 10025, 31156, 40481]</td>\n",
              "      <td>[[1270, 1645, 28447], [21601], [27952, 29471, ...</td>\n",
              "      <td>[40480, 40482, 5539, 21601, 1073, 903, 2324, 4...</td>\n",
              "      <td>[1, 0, 0, 0, 0, 0, 0, 0, 0, 0, 0, 0, 0, 0, 0, ...</td>\n",
              "      <td>0</td>\n",
              "      <td>[7940, 3609, 7060, 6265, 1170, 6654, 5003, 3561]</td>\n",
              "    </tr>\n",
              "    <tr>\n",
              "      <th>4</th>\n",
              "      <td>76272</td>\n",
              "      <td>109030</td>\n",
              "      <td>[40480, 17841, 252, 782, 2373, 1641, 2373, 252...</td>\n",
              "      <td>[[1430, 11434], [1430, 17027], [1615, 23, 695,...</td>\n",
              "      <td>[40480, 40482, 14046, 1430, 11434, 488, 17027,...</td>\n",
              "      <td>[0, 0, 0, 0, 0, 0, 0, 0, 0, 1, 0, 0, 0, 0, 0, ...</td>\n",
              "      <td>0</td>\n",
              "      <td>[3484, 6324, 7594, 243]</td>\n",
              "    </tr>\n",
              "  </tbody>\n",
              "</table>\n",
              "</div>"
            ],
            "text/plain": [
              "       id  ...                                     ingredient_ids\n",
              "0  424415  ...                      [389, 7655, 6270, 1527, 3406]\n",
              "1  146223  ...  [2683, 4969, 800, 5298, 840, 2499, 6632, 7022,...\n",
              "2  312329  ...  [1257, 7655, 6270, 590, 5024, 1119, 4883, 6696...\n",
              "3   74301  ...   [7940, 3609, 7060, 6265, 1170, 6654, 5003, 3561]\n",
              "4   76272  ...                            [3484, 6324, 7594, 243]\n",
              "\n",
              "[5 rows x 8 columns]"
            ]
          },
          "metadata": {
            "tags": []
          },
          "execution_count": 238
        }
      ]
    },
    {
      "cell_type": "code",
      "metadata": {
        "id": "qjzFBHXZhxlE",
        "colab": {
          "base_uri": "https://localhost:8080/",
          "height": 650
        },
        "outputId": "b879903c-d17a-478a-a6b1-af4683b0378a"
      },
      "source": [
        "df_PP_recipe = pd.merge(df_PP_recipe,df_raw_recipe)\n",
        "df_PP_recipe.sort_values(by='i', inplace=True)\n",
        "df_PP_recipe.head()"
      ],
      "execution_count": 239,
      "outputs": [
        {
          "output_type": "execute_result",
          "data": {
            "text/html": [
              "<div>\n",
              "<style scoped>\n",
              "    .dataframe tbody tr th:only-of-type {\n",
              "        vertical-align: middle;\n",
              "    }\n",
              "\n",
              "    .dataframe tbody tr th {\n",
              "        vertical-align: top;\n",
              "    }\n",
              "\n",
              "    .dataframe thead th {\n",
              "        text-align: right;\n",
              "    }\n",
              "</style>\n",
              "<table border=\"1\" class=\"dataframe\">\n",
              "  <thead>\n",
              "    <tr style=\"text-align: right;\">\n",
              "      <th></th>\n",
              "      <th>id</th>\n",
              "      <th>i</th>\n",
              "      <th>name_tokens</th>\n",
              "      <th>ingredient_tokens</th>\n",
              "      <th>steps_tokens</th>\n",
              "      <th>techniques</th>\n",
              "      <th>calorie_level</th>\n",
              "      <th>ingredient_ids</th>\n",
              "      <th>name</th>\n",
              "      <th>minutes</th>\n",
              "      <th>contributor_id</th>\n",
              "      <th>submitted</th>\n",
              "      <th>tags</th>\n",
              "      <th>nutrition</th>\n",
              "      <th>n_steps</th>\n",
              "      <th>steps</th>\n",
              "      <th>description</th>\n",
              "      <th>ingredients</th>\n",
              "      <th>n_ingredients</th>\n",
              "    </tr>\n",
              "  </thead>\n",
              "  <tbody>\n",
              "    <tr>\n",
              "      <th>46053</th>\n",
              "      <td>40893</td>\n",
              "      <td>0</td>\n",
              "      <td>[40480, 1454, 16201, 2056, 955, 541, 11332, 82...</td>\n",
              "      <td>[[1424, 8876, 11007], [3484, 21453], [38966, 2...</td>\n",
              "      <td>[40480, 40482, 23667, 11007, 240, 21453, 240, ...</td>\n",
              "      <td>[0, 0, 0, 0, 0, 0, 0, 0, 0, 1, 1, 0, 0, 0, 0, ...</td>\n",
              "      <td>0</td>\n",
              "      <td>[3384, 7979, 2127, 3502, 3217, 1257, 2778, 500...</td>\n",
              "      <td>white bean   green chile pepper soup</td>\n",
              "      <td>495</td>\n",
              "      <td>1533</td>\n",
              "      <td>2002-09-21</td>\n",
              "      <td>['weeknight', 'time-to-make', 'course', 'main-...</td>\n",
              "      <td>[204.8, 5.0, 9.0, 26.0, 24.0, 2.0, 10.0]</td>\n",
              "      <td>4</td>\n",
              "      <td>['combine beans , onion , chilies , 1 / 2 teas...</td>\n",
              "      <td>easy soup for the crockpot.</td>\n",
              "      <td>['great northern beans', 'yellow onion', 'dice...</td>\n",
              "      <td>9</td>\n",
              "    </tr>\n",
              "    <tr>\n",
              "      <th>108526</th>\n",
              "      <td>44394</td>\n",
              "      <td>1</td>\n",
              "      <td>[40480, 34712, 22683, 11274, 5409, 29868, 40481]</td>\n",
              "      <td>[[5343, 535, 2044, 5409, 7087], [17869, 6020],...</td>\n",
              "      <td>[40480, 40482, 12172, 1281, 5409, 7087, 240, 6...</td>\n",
              "      <td>[1, 0, 0, 1, 0, 0, 0, 0, 0, 0, 0, 0, 0, 0, 0, ...</td>\n",
              "      <td>0</td>\n",
              "      <td>[912, 7557, 2499, 5382]</td>\n",
              "      <td>devilicious cookie cake delights</td>\n",
              "      <td>20</td>\n",
              "      <td>56824</td>\n",
              "      <td>2002-10-27</td>\n",
              "      <td>['30-minutes-or-less', 'time-to-make', 'course...</td>\n",
              "      <td>[132.3, 11.0, 39.0, 5.0, 4.0, 11.0, 5.0]</td>\n",
              "      <td>5</td>\n",
              "      <td>['blend together cake mix , oil and eggs', 'ad...</td>\n",
              "      <td>NaN</td>\n",
              "      <td>[\"devil's food cake mix\", 'vegetable oil', 'eg...</td>\n",
              "      <td>4</td>\n",
              "    </tr>\n",
              "    <tr>\n",
              "      <th>41248</th>\n",
              "      <td>85009</td>\n",
              "      <td>2</td>\n",
              "      <td>[40480, 12187, 13995, 571, 14719, 40481]</td>\n",
              "      <td>[[1061, 494, 813, 2141], [31843], [30645, 4785...</td>\n",
              "      <td>[40480, 40482, 2572, 19472, 31757, 512, 823, 4...</td>\n",
              "      <td>[1, 0, 0, 0, 0, 0, 0, 1, 0, 1, 0, 0, 0, 0, 0, ...</td>\n",
              "      <td>2</td>\n",
              "      <td>[4623, 6265, 1168, 6016, 3597, 3440, 7213, 169...</td>\n",
              "      <td>baked potato toppings</td>\n",
              "      <td>10</td>\n",
              "      <td>64342</td>\n",
              "      <td>2004-02-25</td>\n",
              "      <td>['15-minutes-or-less', 'time-to-make', 'course...</td>\n",
              "      <td>[2786.2, 342.0, 134.0, 290.0, 161.0, 301.0, 42.0]</td>\n",
              "      <td>3</td>\n",
              "      <td>['pick whichever topping you want to use and c...</td>\n",
              "      <td>these toppings sure makes a nice change from p...</td>\n",
              "      <td>['mayonnaise', 'salsa', 'cheddar cheese', 'ref...</td>\n",
              "      <td>13</td>\n",
              "    </tr>\n",
              "    <tr>\n",
              "      <th>28248</th>\n",
              "      <td>134728</td>\n",
              "      <td>3</td>\n",
              "      <td>[40480, 27, 12, 263, 4017, 1494, 273, 14122, 4...</td>\n",
              "      <td>[[5867, 34056], [17918], [15022, 8361], [6953]...</td>\n",
              "      <td>[40480, 40482, 7087, 17918, 240, 6953, 488, 11...</td>\n",
              "      <td>[1, 0, 0, 0, 0, 0, 0, 0, 0, 0, 0, 0, 0, 0, 0, ...</td>\n",
              "      <td>1</td>\n",
              "      <td>[1304, 2683, 3217, 6270, 3532, 869, 7557, 3698...</td>\n",
              "      <td>kfc honey bbq strips</td>\n",
              "      <td>40</td>\n",
              "      <td>166019</td>\n",
              "      <td>2005-08-24</td>\n",
              "      <td>['60-minutes-or-less', 'time-to-make', 'main-i...</td>\n",
              "      <td>[316.0, 4.0, 40.0, 37.0, 78.0, 4.0, 10.0]</td>\n",
              "      <td>10</td>\n",
              "      <td>['mix flour , salt and pepper in bowl', 'set a...</td>\n",
              "      <td>these are so yummy and they do taste just like...</td>\n",
              "      <td>['chicken tenders', 'flour', 'garlic powder', ...</td>\n",
              "      <td>12</td>\n",
              "    </tr>\n",
              "    <tr>\n",
              "      <th>177870</th>\n",
              "      <td>200236</td>\n",
              "      <td>4</td>\n",
              "      <td>[40480, 16212, 11880, 556, 19811, 12772, 22075...</td>\n",
              "      <td>[[16212, 1535], [6953], [1430, 1301, 11332], [...</td>\n",
              "      <td>[40480, 40482, 2525, 10906, 485, 29848, 40478,...</td>\n",
              "      <td>[0, 0, 0, 0, 0, 0, 0, 0, 0, 0, 0, 0, 1, 0, 0, ...</td>\n",
              "      <td>2</td>\n",
              "      <td>[4130, 6270, 3486, 7557, 5010, 3203, 2683, 125...</td>\n",
              "      <td>lamb stew with tomatoes  chickpeas and spices</td>\n",
              "      <td>150</td>\n",
              "      <td>398869</td>\n",
              "      <td>2006-12-11</td>\n",
              "      <td>['time-to-make', 'course', 'main-ingredient', ...</td>\n",
              "      <td>[606.5, 65.0, 12.0, 34.0, 65.0, 83.0, 7.0]</td>\n",
              "      <td>14</td>\n",
              "      <td>['heat oven to 250', 'toss lamb with salt and ...</td>\n",
              "      <td>north african spices with a basic meat stew re...</td>\n",
              "      <td>['lamb shoulder', 'salt', 'ground black pepper...</td>\n",
              "      <td>16</td>\n",
              "    </tr>\n",
              "  </tbody>\n",
              "</table>\n",
              "</div>"
            ],
            "text/plain": [
              "            id  ...  n_ingredients\n",
              "46053    40893  ...              9\n",
              "108526   44394  ...              4\n",
              "41248    85009  ...             13\n",
              "28248   134728  ...             12\n",
              "177870  200236  ...             16\n",
              "\n",
              "[5 rows x 19 columns]"
            ]
          },
          "metadata": {
            "tags": []
          },
          "execution_count": 239
        }
      ]
    },
    {
      "cell_type": "code",
      "metadata": {
        "id": "N45UpWIxUnr2"
      },
      "source": [
        "data1,data2,data3 = '/content/interactions_test.csv', '/content/interactions_train.csv', '/content/interactions_validation.csv'"
      ],
      "execution_count": 240,
      "outputs": []
    },
    {
      "cell_type": "code",
      "metadata": {
        "id": "1UHPzzScV0Or"
      },
      "source": [
        "df1 = pd.read_csv(data1)\n",
        "df2 = pd.read_csv(data2)\n",
        "df3 = pd.read_csv(data3)\n",
        "df_train_rating = pd.concat([df1,df2,df3]).drop_duplicates()\n",
        "#df_train_rating.head()"
      ],
      "execution_count": 241,
      "outputs": []
    },
    {
      "cell_type": "markdown",
      "metadata": {
        "id": "v7Bo4WZl33jj"
      },
      "source": [
        "#### Tạo Utility Matrix"
      ]
    },
    {
      "cell_type": "code",
      "metadata": {
        "id": "8DSCBNlozvsB"
      },
      "source": [
        "#Users-items utility matrix\n",
        "from scipy.sparse import csr_matrix, hstack\n",
        "from pandas.api.types import CategoricalDtype\n",
        "\n",
        "item_c = CategoricalDtype(sorted(df_train_rating.i.unique()), ordered=True)\n",
        "user_c = CategoricalDtype(sorted(df_train_rating.u.unique()), ordered=True)\n",
        "\n",
        "row = df_train_rating.i.astype(item_c).cat.codes\n",
        "col = df_train_rating.u.astype(user_c).cat.codes\n",
        "interactions = csr_matrix((df_train_rating[\"rating\"], (row, col)), \\\n",
        "                           shape=(item_c.categories.size, user_c.categories.size))"
      ],
      "execution_count": 242,
      "outputs": []
    },
    {
      "cell_type": "code",
      "metadata": {
        "colab": {
          "base_uri": "https://localhost:8080/"
        },
        "id": "jGQsaQ1nfm6b",
        "outputId": "b69bbe3a-4c8c-4e86-e221-172d43fb5015"
      },
      "source": [
        "interactions"
      ],
      "execution_count": 243,
      "outputs": [
        {
          "output_type": "execute_result",
          "data": {
            "text/plain": [
              "<178265x25076 sparse matrix of type '<class 'numpy.float64'>'\n",
              "\twith 718379 stored elements in Compressed Sparse Row format>"
            ]
          },
          "metadata": {
            "tags": []
          },
          "execution_count": 243
        }
      ]
    },
    {
      "cell_type": "markdown",
      "metadata": {
        "id": "n8mwSB7y8m5S"
      },
      "source": [
        "#### Tạo Dictionary chứa thông tin Items và Users"
      ]
    },
    {
      "cell_type": "code",
      "metadata": {
        "id": "LL71k8LGhbbB"
      },
      "source": [
        "def create_item_dict(df,id_col,name_col):\n",
        "    item_dict = {}\n",
        "    for i in range(df.shape[0]):\n",
        "        item_dict[(df.loc[i,id_col])] = df.loc[i,name_col]\n",
        "    return item_dict\n",
        "\n",
        "def create_user_dict(df,user_ids_col,u_col):\n",
        "    user_id = list(df[user_ids_col])\n",
        "    user_dict = {}\n",
        "    u_index = list(df[u_col])\n",
        "    for i in range(len(user_id)):\n",
        "        user_dict[user_id[i]] = u_index[i]\n",
        "    return user_dict\n",
        "    "
      ],
      "execution_count": 244,
      "outputs": []
    },
    {
      "cell_type": "code",
      "metadata": {
        "id": "X3rPEvFohfK_"
      },
      "source": [
        "item_dict = create_item_dict(df_PP_recipe,'i','name')\n",
        "#item_dict"
      ],
      "execution_count": 245,
      "outputs": []
    },
    {
      "cell_type": "code",
      "metadata": {
        "id": "VSk9lzrp1tCm"
      },
      "source": [
        "user_dict = create_user_dict(df_train_rating,'user_id','u')\n",
        "#user_dict"
      ],
      "execution_count": 246,
      "outputs": []
    },
    {
      "cell_type": "markdown",
      "metadata": {
        "id": "S3GUc-0eUcB1"
      },
      "source": [
        "### Tạo Features Map của Items"
      ]
    },
    {
      "cell_type": "code",
      "metadata": {
        "id": "HGrvwOwwNDC-"
      },
      "source": [
        "def convert_string_to_float(s):\n",
        "  s = s.replace('[','').replace(']','')\n",
        "  s = np.fromstring(s,dtype=float,sep=',')\n",
        "  return s"
      ],
      "execution_count": 247,
      "outputs": []
    },
    {
      "cell_type": "markdown",
      "metadata": {
        "id": "kZ904APRHIk5"
      },
      "source": [
        "#### Nutritions values\n"
      ]
    },
    {
      "cell_type": "code",
      "metadata": {
        "id": "v68rC6N99kJe"
      },
      "source": [
        "str_nutritions = df_PP_recipe.nutrition.values\n",
        "nutrition_labels = ['calories', 'total fat (PDV)', 'sugar (PDV)' , 'sodium (PDV)' , 'protein (PDV)' , 'saturated fat (PDV)', 'carbohydrates (PDV)']"
      ],
      "execution_count": 248,
      "outputs": []
    },
    {
      "cell_type": "code",
      "metadata": {
        "id": "TgqKWtM9xuO5"
      },
      "source": [
        "flt_nutritions = []\n",
        "for i in str_nutritions:\n",
        "  flt_nutritions.append(convert_string_to_float(i))"
      ],
      "execution_count": 249,
      "outputs": []
    },
    {
      "cell_type": "code",
      "metadata": {
        "id": "vBZCc2RwIMVQ"
      },
      "source": [
        "nutritions_map = {'recipe_id':[]}\n",
        "for i in nutrition_labels: \n",
        "  nutritions_map[i] = []"
      ],
      "execution_count": 250,
      "outputs": []
    },
    {
      "cell_type": "code",
      "metadata": {
        "id": "G6BtG3OnLCRn"
      },
      "source": [
        "ids = df_PP_recipe.i.values \n",
        "nutritions_map['recipe_id'] = ids \n",
        "calories = []\n",
        "totalfat = []\n",
        "sugar = []\n",
        "na = []\n",
        "protein = []\n",
        "sat_fat = []\n",
        "carb = []\n",
        "for map in flt_nutritions: \n",
        "  calories.append(map[0])\n",
        "  totalfat.append(map[1])\n",
        "  sugar.append(map[2])\n",
        "  na.append(map[3])\n",
        "  protein.append(map[4])\n",
        "  sat_fat.append(map[5])\n",
        "  carb.append(map[6])"
      ],
      "execution_count": 251,
      "outputs": []
    },
    {
      "cell_type": "code",
      "metadata": {
        "id": "nZwJ8T1XwxkQ"
      },
      "source": [
        "nutritions_map['calories']=calories\n",
        "nutritions_map['total fat (PDV)']=totalfat\n",
        "nutritions_map['sugar (PDV)']=sugar\n",
        "nutritions_map['sodium (PDV)']=na\n",
        "nutritions_map['protein (PDV)']=protein\n",
        "nutritions_map['saturated fat (PDV)']=sat_fat\n",
        "nutritions_map['carbohydrates (PDV)']=carb"
      ],
      "execution_count": 252,
      "outputs": []
    },
    {
      "cell_type": "code",
      "metadata": {
        "colab": {
          "base_uri": "https://localhost:8080/",
          "height": 198
        },
        "id": "EqidOE2xQKD1",
        "outputId": "e6c52160-1a0f-4b36-8730-fbc0ea77b0c0"
      },
      "source": [
        "df_nutritions = pd.DataFrame(data = nutritions_map)\n",
        "df_nutritions.head()"
      ],
      "execution_count": 253,
      "outputs": [
        {
          "output_type": "execute_result",
          "data": {
            "text/html": [
              "<div>\n",
              "<style scoped>\n",
              "    .dataframe tbody tr th:only-of-type {\n",
              "        vertical-align: middle;\n",
              "    }\n",
              "\n",
              "    .dataframe tbody tr th {\n",
              "        vertical-align: top;\n",
              "    }\n",
              "\n",
              "    .dataframe thead th {\n",
              "        text-align: right;\n",
              "    }\n",
              "</style>\n",
              "<table border=\"1\" class=\"dataframe\">\n",
              "  <thead>\n",
              "    <tr style=\"text-align: right;\">\n",
              "      <th></th>\n",
              "      <th>recipe_id</th>\n",
              "      <th>calories</th>\n",
              "      <th>total fat (PDV)</th>\n",
              "      <th>sugar (PDV)</th>\n",
              "      <th>sodium (PDV)</th>\n",
              "      <th>protein (PDV)</th>\n",
              "      <th>saturated fat (PDV)</th>\n",
              "      <th>carbohydrates (PDV)</th>\n",
              "    </tr>\n",
              "  </thead>\n",
              "  <tbody>\n",
              "    <tr>\n",
              "      <th>0</th>\n",
              "      <td>0</td>\n",
              "      <td>204.8</td>\n",
              "      <td>5.0</td>\n",
              "      <td>9.0</td>\n",
              "      <td>26.0</td>\n",
              "      <td>24.0</td>\n",
              "      <td>2.0</td>\n",
              "      <td>10.0</td>\n",
              "    </tr>\n",
              "    <tr>\n",
              "      <th>1</th>\n",
              "      <td>1</td>\n",
              "      <td>132.3</td>\n",
              "      <td>11.0</td>\n",
              "      <td>39.0</td>\n",
              "      <td>5.0</td>\n",
              "      <td>4.0</td>\n",
              "      <td>11.0</td>\n",
              "      <td>5.0</td>\n",
              "    </tr>\n",
              "    <tr>\n",
              "      <th>2</th>\n",
              "      <td>2</td>\n",
              "      <td>2786.2</td>\n",
              "      <td>342.0</td>\n",
              "      <td>134.0</td>\n",
              "      <td>290.0</td>\n",
              "      <td>161.0</td>\n",
              "      <td>301.0</td>\n",
              "      <td>42.0</td>\n",
              "    </tr>\n",
              "    <tr>\n",
              "      <th>3</th>\n",
              "      <td>3</td>\n",
              "      <td>316.0</td>\n",
              "      <td>4.0</td>\n",
              "      <td>40.0</td>\n",
              "      <td>37.0</td>\n",
              "      <td>78.0</td>\n",
              "      <td>4.0</td>\n",
              "      <td>10.0</td>\n",
              "    </tr>\n",
              "    <tr>\n",
              "      <th>4</th>\n",
              "      <td>4</td>\n",
              "      <td>606.5</td>\n",
              "      <td>65.0</td>\n",
              "      <td>12.0</td>\n",
              "      <td>34.0</td>\n",
              "      <td>65.0</td>\n",
              "      <td>83.0</td>\n",
              "      <td>7.0</td>\n",
              "    </tr>\n",
              "  </tbody>\n",
              "</table>\n",
              "</div>"
            ],
            "text/plain": [
              "   recipe_id  calories  ...  saturated fat (PDV)  carbohydrates (PDV)\n",
              "0          0     204.8  ...                  2.0                 10.0\n",
              "1          1     132.3  ...                 11.0                  5.0\n",
              "2          2    2786.2  ...                301.0                 42.0\n",
              "3          3     316.0  ...                  4.0                 10.0\n",
              "4          4     606.5  ...                 83.0                  7.0\n",
              "\n",
              "[5 rows x 8 columns]"
            ]
          },
          "metadata": {
            "tags": []
          },
          "execution_count": 253
        }
      ]
    },
    {
      "cell_type": "markdown",
      "metadata": {
        "id": "7oNLDM_SHM5F"
      },
      "source": [
        "#### Recipe's Requirements Informations"
      ]
    },
    {
      "cell_type": "code",
      "metadata": {
        "id": "1CdEf_Sr3b7C"
      },
      "source": [
        "minutes = df_PP_recipe.minutes.values\n",
        "steps = df_PP_recipe.n_steps.values\n",
        "ingredients = df_PP_recipe.n_ingredients.values\n",
        "\n",
        "features = {'recipe_id':[],'minutes':[],'n_steps':[],'n_ingredient':[]}\n",
        "features['recipe_id'] = ids\n",
        "features['minutes'] = minutes\n",
        "features['n_steps'] = steps\n",
        "features['n_ingredient'] = ingredients"
      ],
      "execution_count": 254,
      "outputs": []
    },
    {
      "cell_type": "code",
      "metadata": {
        "colab": {
          "base_uri": "https://localhost:8080/",
          "height": 198
        },
        "id": "KI301LNn4bIR",
        "outputId": "f957d910-3711-4f9f-883c-ebfc2fe84944"
      },
      "source": [
        "df_embed = pd.DataFrame(data = features)\n",
        "df_embed.head()"
      ],
      "execution_count": 255,
      "outputs": [
        {
          "output_type": "execute_result",
          "data": {
            "text/html": [
              "<div>\n",
              "<style scoped>\n",
              "    .dataframe tbody tr th:only-of-type {\n",
              "        vertical-align: middle;\n",
              "    }\n",
              "\n",
              "    .dataframe tbody tr th {\n",
              "        vertical-align: top;\n",
              "    }\n",
              "\n",
              "    .dataframe thead th {\n",
              "        text-align: right;\n",
              "    }\n",
              "</style>\n",
              "<table border=\"1\" class=\"dataframe\">\n",
              "  <thead>\n",
              "    <tr style=\"text-align: right;\">\n",
              "      <th></th>\n",
              "      <th>recipe_id</th>\n",
              "      <th>minutes</th>\n",
              "      <th>n_steps</th>\n",
              "      <th>n_ingredient</th>\n",
              "    </tr>\n",
              "  </thead>\n",
              "  <tbody>\n",
              "    <tr>\n",
              "      <th>0</th>\n",
              "      <td>0</td>\n",
              "      <td>495</td>\n",
              "      <td>4</td>\n",
              "      <td>9</td>\n",
              "    </tr>\n",
              "    <tr>\n",
              "      <th>1</th>\n",
              "      <td>1</td>\n",
              "      <td>20</td>\n",
              "      <td>5</td>\n",
              "      <td>4</td>\n",
              "    </tr>\n",
              "    <tr>\n",
              "      <th>2</th>\n",
              "      <td>2</td>\n",
              "      <td>10</td>\n",
              "      <td>3</td>\n",
              "      <td>13</td>\n",
              "    </tr>\n",
              "    <tr>\n",
              "      <th>3</th>\n",
              "      <td>3</td>\n",
              "      <td>40</td>\n",
              "      <td>10</td>\n",
              "      <td>12</td>\n",
              "    </tr>\n",
              "    <tr>\n",
              "      <th>4</th>\n",
              "      <td>4</td>\n",
              "      <td>150</td>\n",
              "      <td>14</td>\n",
              "      <td>16</td>\n",
              "    </tr>\n",
              "  </tbody>\n",
              "</table>\n",
              "</div>"
            ],
            "text/plain": [
              "   recipe_id  minutes  n_steps  n_ingredient\n",
              "0          0      495        4             9\n",
              "1          1       20        5             4\n",
              "2          2       10        3            13\n",
              "3          3       40       10            12\n",
              "4          4      150       14            16"
            ]
          },
          "metadata": {
            "tags": []
          },
          "execution_count": 255
        }
      ]
    },
    {
      "cell_type": "code",
      "metadata": {
        "id": "fCbzk35E4i9k"
      },
      "source": [
        "df_embed = pd.merge(df_embed,df_nutritions)\n",
        "#df_embed"
      ],
      "execution_count": 256,
      "outputs": []
    },
    {
      "cell_type": "markdown",
      "metadata": {
        "id": "IvD18WqcH60V"
      },
      "source": [
        "#### Define Food Type base on ingredients"
      ]
    },
    {
      "cell_type": "code",
      "metadata": {
        "id": "uFdr_zpc_ELt"
      },
      "source": [
        "df_PP_recipe = pd.concat([df_PP_recipe,df_nutritions['calories']],axis=1)\n",
        "df_PP_recipe['food types'] = np.nan\n",
        "df_PP_recipe['food types'] = df_PP_recipe['food types'].astype('str')\n",
        "\n",
        "for i in df_PP_recipe['ingredients'].index:\n",
        "    if('eggs' not in df_PP_recipe['ingredients'][i]):\n",
        "         if('ice-cream' in df_PP_recipe['ingredients'][i] or 'chocolate' in df_PP_recipe['ingredients'][i] or 'cookies' in df_PP_recipe['ingredients'][i]):\n",
        "                df_PP_recipe['food types'][i]='Veg dessert'\n",
        "    elif('eggs' in df_PP_recipe['ingredients'][i]):\n",
        "        if('ice-cream' in df_PP_recipe['ingredients'][i] or 'chocolate' in df_PP_recipe['ingredients'][i] or 'cookies' in df_PP_recipe['ingredients'][i]):\n",
        "                df_PP_recipe['food types'][i]='Non-Veg dessert'\n",
        "\n",
        "for i in df_PP_recipe.index:\n",
        "    if(df_PP_recipe['food types'][i]!='Veg dessert' and df_PP_recipe['food types'][i]!='Non-Veg dessert' and 20<df_PP_recipe['calories'][i]<300):\n",
        "        df_PP_recipe['food types'][i]='Healthy'\n",
        "\n",
        "for i in df_PP_recipe.index:\n",
        "    if(df_PP_recipe['food types'][i]!='Veg dessert' and df_PP_recipe['food types'][i]!='Non-Veg dessert' and df_PP_recipe['food types'][i]!='Healthy'):\n",
        "        if('chicken' in df_PP_recipe['ingredients'][i] or 'eggs' in df_PP_recipe['ingredients'][i] or'ham' in df_PP_recipe['ingredients'][i] or 'pepperoni' in df_PP_recipe['ingredients'][i] ):\n",
        "            df_PP_recipe['food types'][i]='Non-veg'\n",
        "for i in df_PP_recipe.index:\n",
        "    if(df_PP_recipe['food types'][i]!='Veg dessert' and df_PP_recipe['food types'][i]!='Non-Veg dessert' and df_PP_recipe['food types'][i]!='Healthy' and df_PP_recipe['food types'][i]!='Non-veg'):\n",
        "        df_PP_recipe['food types'][i]='Veg'"
      ],
      "execution_count": 257,
      "outputs": []
    },
    {
      "cell_type": "code",
      "metadata": {
        "colab": {
          "base_uri": "https://localhost:8080/"
        },
        "id": "KOhCvUtgHHrx",
        "outputId": "fa1937cb-4516-4604-a268-2fded3dae020"
      },
      "source": [
        "df_PP_recipe['food types'].value_counts()"
      ],
      "execution_count": 258,
      "outputs": [
        {
          "output_type": "execute_result",
          "data": {
            "text/plain": [
              "Healthy            79237\n",
              "Veg                58766\n",
              "Non-veg            29498\n",
              "Veg dessert         7065\n",
              "Non-Veg dessert     3699\n",
              "Name: food types, dtype: int64"
            ]
          },
          "metadata": {
            "tags": []
          },
          "execution_count": 258
        }
      ]
    },
    {
      "cell_type": "code",
      "metadata": {
        "colab": {
          "base_uri": "https://localhost:8080/"
        },
        "id": "W2xvIKu2HJR4",
        "outputId": "81146702-8fc0-4332-d2f2-71839bfc25bd"
      },
      "source": [
        "df_PP_recipe['food types'].isnull().sum()"
      ],
      "execution_count": 259,
      "outputs": [
        {
          "output_type": "execute_result",
          "data": {
            "text/plain": [
              "0"
            ]
          },
          "metadata": {
            "tags": []
          },
          "execution_count": 259
        }
      ]
    },
    {
      "cell_type": "code",
      "metadata": {
        "id": "AURoZJWNHT9v"
      },
      "source": [
        "types = pd.get_dummies(df_PP_recipe['food types'])"
      ],
      "execution_count": 260,
      "outputs": []
    },
    {
      "cell_type": "code",
      "metadata": {
        "colab": {
          "base_uri": "https://localhost:8080/",
          "height": 215
        },
        "id": "eoUfATjOo92v",
        "outputId": "f0dc4185-d191-44dc-b840-8eb4a4e68be8"
      },
      "source": [
        "df_embed = pd.concat([df_embed,types],axis=1)\n",
        "df_embed.drop(columns=(['recipe_id']),axis=1,inplace=True)\n",
        "df_embed.head()"
      ],
      "execution_count": 261,
      "outputs": [
        {
          "output_type": "execute_result",
          "data": {
            "text/html": [
              "<div>\n",
              "<style scoped>\n",
              "    .dataframe tbody tr th:only-of-type {\n",
              "        vertical-align: middle;\n",
              "    }\n",
              "\n",
              "    .dataframe tbody tr th {\n",
              "        vertical-align: top;\n",
              "    }\n",
              "\n",
              "    .dataframe thead th {\n",
              "        text-align: right;\n",
              "    }\n",
              "</style>\n",
              "<table border=\"1\" class=\"dataframe\">\n",
              "  <thead>\n",
              "    <tr style=\"text-align: right;\">\n",
              "      <th></th>\n",
              "      <th>minutes</th>\n",
              "      <th>n_steps</th>\n",
              "      <th>n_ingredient</th>\n",
              "      <th>calories</th>\n",
              "      <th>total fat (PDV)</th>\n",
              "      <th>sugar (PDV)</th>\n",
              "      <th>sodium (PDV)</th>\n",
              "      <th>protein (PDV)</th>\n",
              "      <th>saturated fat (PDV)</th>\n",
              "      <th>carbohydrates (PDV)</th>\n",
              "      <th>Healthy</th>\n",
              "      <th>Non-Veg dessert</th>\n",
              "      <th>Non-veg</th>\n",
              "      <th>Veg</th>\n",
              "      <th>Veg dessert</th>\n",
              "    </tr>\n",
              "  </thead>\n",
              "  <tbody>\n",
              "    <tr>\n",
              "      <th>0</th>\n",
              "      <td>495</td>\n",
              "      <td>4</td>\n",
              "      <td>9</td>\n",
              "      <td>204.8</td>\n",
              "      <td>5.0</td>\n",
              "      <td>9.0</td>\n",
              "      <td>26.0</td>\n",
              "      <td>24.0</td>\n",
              "      <td>2.0</td>\n",
              "      <td>10.0</td>\n",
              "      <td>1</td>\n",
              "      <td>0</td>\n",
              "      <td>0</td>\n",
              "      <td>0</td>\n",
              "      <td>0</td>\n",
              "    </tr>\n",
              "    <tr>\n",
              "      <th>1</th>\n",
              "      <td>20</td>\n",
              "      <td>5</td>\n",
              "      <td>4</td>\n",
              "      <td>132.3</td>\n",
              "      <td>11.0</td>\n",
              "      <td>39.0</td>\n",
              "      <td>5.0</td>\n",
              "      <td>4.0</td>\n",
              "      <td>11.0</td>\n",
              "      <td>5.0</td>\n",
              "      <td>1</td>\n",
              "      <td>0</td>\n",
              "      <td>0</td>\n",
              "      <td>0</td>\n",
              "      <td>0</td>\n",
              "    </tr>\n",
              "    <tr>\n",
              "      <th>2</th>\n",
              "      <td>10</td>\n",
              "      <td>3</td>\n",
              "      <td>13</td>\n",
              "      <td>2786.2</td>\n",
              "      <td>342.0</td>\n",
              "      <td>134.0</td>\n",
              "      <td>290.0</td>\n",
              "      <td>161.0</td>\n",
              "      <td>301.0</td>\n",
              "      <td>42.0</td>\n",
              "      <td>0</td>\n",
              "      <td>0</td>\n",
              "      <td>1</td>\n",
              "      <td>0</td>\n",
              "      <td>0</td>\n",
              "    </tr>\n",
              "    <tr>\n",
              "      <th>3</th>\n",
              "      <td>40</td>\n",
              "      <td>10</td>\n",
              "      <td>12</td>\n",
              "      <td>316.0</td>\n",
              "      <td>4.0</td>\n",
              "      <td>40.0</td>\n",
              "      <td>37.0</td>\n",
              "      <td>78.0</td>\n",
              "      <td>4.0</td>\n",
              "      <td>10.0</td>\n",
              "      <td>0</td>\n",
              "      <td>0</td>\n",
              "      <td>1</td>\n",
              "      <td>0</td>\n",
              "      <td>0</td>\n",
              "    </tr>\n",
              "    <tr>\n",
              "      <th>4</th>\n",
              "      <td>150</td>\n",
              "      <td>14</td>\n",
              "      <td>16</td>\n",
              "      <td>606.5</td>\n",
              "      <td>65.0</td>\n",
              "      <td>12.0</td>\n",
              "      <td>34.0</td>\n",
              "      <td>65.0</td>\n",
              "      <td>83.0</td>\n",
              "      <td>7.0</td>\n",
              "      <td>0</td>\n",
              "      <td>0</td>\n",
              "      <td>0</td>\n",
              "      <td>1</td>\n",
              "      <td>0</td>\n",
              "    </tr>\n",
              "  </tbody>\n",
              "</table>\n",
              "</div>"
            ],
            "text/plain": [
              "   minutes  n_steps  n_ingredient  ...  Non-veg  Veg  Veg dessert\n",
              "0      495        4             9  ...        0    0            0\n",
              "1       20        5             4  ...        0    0            0\n",
              "2       10        3            13  ...        1    0            0\n",
              "3       40       10            12  ...        1    0            0\n",
              "4      150       14            16  ...        0    1            0\n",
              "\n",
              "[5 rows x 15 columns]"
            ]
          },
          "metadata": {
            "tags": []
          },
          "execution_count": 261
        }
      ]
    },
    {
      "cell_type": "code",
      "metadata": {
        "colab": {
          "base_uri": "https://localhost:8080/"
        },
        "id": "aebWXkPq9NL6",
        "outputId": "54d45dd1-3538-48f4-9188-6962212143ff"
      },
      "source": [
        "item_features = csr_matrix(df_embed.values)\n",
        "item_features"
      ],
      "execution_count": 262,
      "outputs": [
        {
          "output_type": "execute_result",
          "data": {
            "text/plain": [
              "<178265x15 sparse matrix of type '<class 'numpy.float64'>'\n",
              "\twith 1900823 stored elements in Compressed Sparse Row format>"
            ]
          },
          "metadata": {
            "tags": []
          },
          "execution_count": 262
        }
      ]
    },
    {
      "cell_type": "markdown",
      "metadata": {
        "id": "rbuYsLu7azz5"
      },
      "source": [
        "# Recommender System \n"
      ]
    },
    {
      "cell_type": "markdown",
      "metadata": {
        "id": "QEdFZ_ZeDJnf"
      },
      "source": [
        "### LightFM Implementation\n"
      ]
    },
    {
      "cell_type": "code",
      "metadata": {
        "id": "LNvolt8P80Kf"
      },
      "source": [
        "!pip install -qq lightfm"
      ],
      "execution_count": 263,
      "outputs": []
    },
    {
      "cell_type": "code",
      "metadata": {
        "id": "oX3VHGjfjFHe"
      },
      "source": [
        "from lightfm import LightFM\n",
        "from lightfm.cross_validation import random_train_test_split\n",
        "from lightfm.evaluation import *"
      ],
      "execution_count": 264,
      "outputs": []
    },
    {
      "cell_type": "code",
      "metadata": {
        "id": "0QMxHn1OXvQc"
      },
      "source": [
        "# Split interactions to train and test sets \n",
        "train, test = random_train_test_split(interactions,test_percentage=0.1,random_state=42)"
      ],
      "execution_count": 265,
      "outputs": []
    },
    {
      "cell_type": "markdown",
      "metadata": {
        "id": "y3w_Fyb8Yrtr"
      },
      "source": [
        "##### Define LightFM model"
      ]
    },
    {
      "cell_type": "code",
      "metadata": {
        "id": "5TEg5c74V_9T"
      },
      "source": [
        "hybrid = LightFM(no_components=27,random_state=42,loss='warp',item_alpha=1e-06)\n"
      ],
      "execution_count": 266,
      "outputs": []
    },
    {
      "cell_type": "code",
      "metadata": {
        "colab": {
          "base_uri": "https://localhost:8080/"
        },
        "id": "YVrEhkzKdlBu",
        "outputId": "254e4ab0-cabc-4977-9127-b87a83779d76"
      },
      "source": [
        "# AUC scores by Epochs\n",
        "epochs = 30\n",
        "AUC_train = []\n",
        "AUC_test = []\n",
        "for i in range(epochs):\n",
        "  print(i+1)\n",
        "  hybrid.fit(train,item_features = item_features,num_threads =4)\n",
        "  hybrid_train_auc = auc_score(hybrid,train,item_features=item_features,num_threads = 4).mean()\n",
        "  hybrid_test_auc = auc_score(hybrid,test,train_interactions=train,item_features=item_features,num_threads = 4).mean()\n",
        "  AUC_train.append(hybrid_train_auc)\n",
        "  AUC_test.append(hybrid_test_auc)\n"
      ],
      "execution_count": null,
      "outputs": [
        {
          "output_type": "stream",
          "text": [
            "1\n",
            "2\n",
            "3\n",
            "4\n",
            "5\n",
            "6\n",
            "7\n",
            "8\n",
            "9\n",
            "10\n"
          ],
          "name": "stdout"
        }
      ]
    },
    {
      "cell_type": "code",
      "metadata": {
        "id": "kDofBRDWg9XS"
      },
      "source": [
        "#vẽ AUC theo epochs\n",
        "plt.plot(np.arange(epochs),AUC_train,label = 'Train AUC score')\n",
        "plt.plot(np.arange(epochs),AUC_test,label = 'Test AUC score')\n",
        "plt.legend()\n",
        "plt.show"
      ],
      "execution_count": null,
      "outputs": []
    },
    {
      "cell_type": "markdown",
      "metadata": {
        "id": "LKaknyRhetHO"
      },
      "source": [
        "##### Evaluation: AUC score\n"
      ]
    },
    {
      "cell_type": "code",
      "metadata": {
        "id": "acfkIGNjmUOF"
      },
      "source": [
        "hybrid_train_auc = auc_score(hybrid,train,item_features=item_features)\n",
        "hybrid_test_auc = auc_score(hybrid,test,train_interactions=train,item_features=item_features)"
      ],
      "execution_count": null,
      "outputs": []
    },
    {
      "cell_type": "code",
      "metadata": {
        "id": "cioStdyfhmA1",
        "colab": {
          "base_uri": "https://localhost:8080/"
        },
        "outputId": "e2f05211-06dc-406e-acc8-e8704e5c1daf"
      },
      "source": [
        "print('Hybrid model train AUC score: %.10f' %hybrid_train_auc.mean())\n",
        "print('Hybrid model test AUC score: %.10f' %hybrid_test_auc.mean())"
      ],
      "execution_count": null,
      "outputs": [
        {
          "output_type": "stream",
          "text": [
            "Hybrid model train AUC score: 0.5779501200\n",
            "Hybrid model test AUC score: 0.5011537075\n"
          ],
          "name": "stdout"
        }
      ]
    },
    {
      "cell_type": "markdown",
      "metadata": {
        "id": "tg4ac5NwnGjL"
      },
      "source": [
        "### Recommend Definitions\n",
        "[Link to code](https://github.com/aayushmnit/cookbook/blob/master/recsys.py)"
      ]
    },
    {
      "cell_type": "code",
      "metadata": {
        "id": "c571D-bT7Ppz"
      },
      "source": [
        "def sample_recommendation_user(model, interactions, user_id, \n",
        "                               item_dict,item_features=None,threshold = 3,nrec_items = 10, show = True):\n",
        "    n_items, n_users = interactions.shape\n",
        "    user_x = user_dict[user_id]\n",
        "    scores = pd.Series(model.predict(user_ids = user_x,item_ids=np.arange(n_items),item_features=item_features,user_features=None))\n",
        "    scores = list(pd.Series(scores.sort_values(ascending=False).index))\n",
        "    user_rated_items = interactions.getcol(user_x).nonzero()\n",
        "    thr = np.where(interactions.getcol(user_x)[user_rated_items] > threshold)[1]\n",
        "    user_rated_items = user_rated_items[0][thr]\n",
        "    known_items = list(pd.Series([user_rated_items]).sort_values(ascending=False))\n",
        "    \n",
        "    scores = [x for x in scores if x not in known_items[0]]\n",
        "    return_score_list = scores[0:nrec_items]\n",
        "    known_names = []\n",
        "    for i in known_items[0]:\n",
        "      known_names.append(item_dict[i])\n",
        "    scores = list(pd.Series(return_score_list).apply(lambda x: item_dict[x]))\n",
        "    if show == True:\n",
        "        print(\"Known Likes:\")\n",
        "        counter = 1\n",
        "        for i in known_names:\n",
        "            print(str(counter) + '- ' + i)\n",
        "            counter+=1\n",
        "\n",
        "        print(\"\\n Recommended Items:\")\n",
        "        counter = 1\n",
        "        for i in scores:\n",
        "            print(str(counter) + '- ' + i)\n",
        "            counter+=1\n",
        "    return return_score_list\n",
        "\n",
        "\n",
        "def recommendation(model, interactions, user_id, item_dict,item_features=None,threshold = 0,nrec_items = 10):\n",
        "  rec_items_ids = sample_recommendation_user(model, interactions, user_id,item_dict,item_features,threshold,nrec_items, show = False)\n",
        "  rec_items = []\n",
        "  output = ''\n",
        "  for i in rec_items_ids:\n",
        "    rec_items.append(item_dict[i])\n",
        "  output += 'Recipe you might like: \\n'\n",
        "  counter = 1\n",
        "  for i in rec_items:\n",
        "    output += str(counter) + '- ' + i + '\\n'\n",
        "    counter+=1\n",
        "  return output\n",
        "\n"
      ],
      "execution_count": null,
      "outputs": []
    },
    {
      "cell_type": "code",
      "metadata": {
        "id": "5QGUpEaGEXfJ"
      },
      "source": [
        "pip install -qq gradio"
      ],
      "execution_count": null,
      "outputs": []
    },
    {
      "cell_type": "code",
      "metadata": {
        "id": "NRfojUW2EVTg"
      },
      "source": [
        "name_dict = {}\n",
        "import gradio as gr\n",
        "import random\n",
        "\n",
        "def username(name,name_dict):\n",
        "  from random import randint\n",
        "  new_i = len(user_dict)\n",
        "  new_id = randint(0,1e7)\n",
        "  while new_id in user_dict:\n",
        "    new_id = randint(0,1e7)\n",
        "  user_dict[new_id]=new_i\n",
        "  name_dict[name] = new_id\n",
        "\n",
        "  return name, new_id\n",
        "def generate_id(name):\n",
        "    new, user_id = username(name,name_dict)\n",
        "    out = 'Welcome to FuKaKukku!\\n'\n",
        "    out += '------------------------------\\n'\n",
        "    out += 'Your new username: {}. Id: {} \\n'.format(name,user_id)\n",
        "    out += '------------------------------\\n'\n",
        "    out += 'Please sign in to join FukkaKukku!'\n",
        "    return out\n",
        "def recommend(are_you_new,name):\n",
        "  if are_you_new: \n",
        "    if name in name_dict:\n",
        "      return 'Username already existed!'\n",
        "    else:\n",
        "      out = generate_id(name)\n",
        "      global interactions\n",
        "      new_interact=csr_matrix(np.zeros((interactions.shape[0],1)))\n",
        "      interactions = csr_matrix(hstack([new_interact,interactions]))\n",
        "      return out\n",
        "  else:\n",
        "    if name not in name_dict: \n",
        "      warning = 'You have not registered yet. \\n'\n",
        "      warning += '------------------------------\\n'\n",
        "      warning += 'Please check the New to FuKKaKukku checkbox to register.'\n",
        "      return warning\n",
        "    else:  \n",
        "      user_id = name_dict[name]\n",
        "      rec = recommendation(hybrid,interactions,user_id,item_dict,item_features)\n",
        "      greet = 'Hello {}! Welcome to FuKaKukku! \\n'.format(name)\n",
        "      greet += rec\n",
        "      return greet"
      ],
      "execution_count": null,
      "outputs": []
    },
    {
      "cell_type": "code",
      "metadata": {
        "colab": {
          "base_uri": "https://localhost:8080/"
        },
        "id": "fnxTJQKVB1Dq",
        "outputId": "ee42f1b9-a6ba-4057-8334-6142b2e7fb3e"
      },
      "source": [
        "hybrid.fit_partial(a,item_features=item_features,epochs=40,num_threads=4,verbose=True)"
      ],
      "execution_count": null,
      "outputs": [
        {
          "output_type": "stream",
          "text": [
            "Epoch: 100%|██████████| 40/40 [00:00<00:00, 105.89it/s]\n"
          ],
          "name": "stderr"
        },
        {
          "output_type": "execute_result",
          "data": {
            "text/plain": [
              "<lightfm.lightfm.LightFM at 0x7f6050760a90>"
            ]
          },
          "metadata": {
            "tags": []
          },
          "execution_count": 233
        }
      ]
    },
    {
      "cell_type": "markdown",
      "metadata": {
        "id": "tbbrL7pNY7MN"
      },
      "source": [
        "##  Demo UI using Gradio\n",
        "<br>\n",
        "\n",
        "#### How to use:\n",
        "- For new users:\n",
        "  - Tick *New to FuKaKukku* checkbox and type your new user name to register\n",
        "  - Untick *New to FUKKAKUKKU* and Re-submit\n",
        "  - The Recommender System will give you items you might like.\n",
        "- For registered users:\n",
        "  - Type your username to the textbox and the Recommender System will do the rest.\n",
        "<br>\n",
        " \n",
        " ##### Of course this demo is solely for demo purpose, as the name suggested. We can not rate items using this interface as Gradio module has its own limit.\n",
        "\n"
      ]
    },
    {
      "cell_type": "code",
      "metadata": {
        "colab": {
          "base_uri": "https://localhost:8080/",
          "height": 648
        },
        "id": "C-cYw-t1yyOD",
        "outputId": "220bc62c-fc0b-42b2-bf63-9f456de4bbe2"
      },
      "source": [
        "iface = gr.Interface(\n",
        "  fn=recommend, \n",
        "  inputs=[gr.inputs.Checkbox(label='New to FukkaKukku?'),gr.inputs.Textbox(label='Username:')], \n",
        "  outputs=[gr.outputs.Textbox(label='Welcome')],\n",
        "  title='Welcome to FuKaKukku'\n",
        "  )\n",
        "iface.launch()"
      ],
      "execution_count": null,
      "outputs": [
        {
          "output_type": "stream",
          "text": [
            "Colab notebook detected. To show errors in colab notebook, set `debug=True` in `launch()`\n",
            "This share link will expire in 24 hours. If you need a permanent link, visit: https://gradio.app/introducing-hosted (NEW!)\n",
            "Running on External URL: https://11568.gradio.app\n",
            "Interface loading below...\n"
          ],
          "name": "stdout"
        },
        {
          "output_type": "display_data",
          "data": {
            "text/html": [
              "\n",
              "        <iframe\n",
              "            width=\"1000\"\n",
              "            height=\"500\"\n",
              "            src=\"https://11568.gradio.app\"\n",
              "            frameborder=\"0\"\n",
              "            allowfullscreen\n",
              "        ></iframe>\n",
              "        "
            ],
            "text/plain": [
              "<IPython.lib.display.IFrame at 0x7f608dc25d50>"
            ]
          },
          "metadata": {
            "tags": []
          }
        },
        {
          "output_type": "execute_result",
          "data": {
            "text/plain": [
              "(<Flask 'gradio.networking'>,\n",
              " 'http://127.0.0.1:7864/',\n",
              " 'https://11568.gradio.app')"
            ]
          },
          "metadata": {
            "tags": []
          },
          "execution_count": 210
        }
      ]
    },
    {
      "cell_type": "markdown",
      "metadata": {
        "id": "QjuYd_vMUKtS"
      },
      "source": [
        "#### New interactions data inputs Section\n"
      ]
    },
    {
      "cell_type": "code",
      "metadata": {
        "colab": {
          "base_uri": "https://localhost:8080/",
          "height": 407
        },
        "id": "rU1J6rE0CSkh",
        "outputId": "47486613-3c16-4398-e4dc-8cca66962592"
      },
      "source": [
        "df_new = pd.read_csv('/content/drive/MyDrive/FinalProject/Demo Data.csv')\n",
        "df_new"
      ],
      "execution_count": null,
      "outputs": [
        {
          "output_type": "execute_result",
          "data": {
            "text/html": [
              "<div>\n",
              "<style scoped>\n",
              "    .dataframe tbody tr th:only-of-type {\n",
              "        vertical-align: middle;\n",
              "    }\n",
              "\n",
              "    .dataframe tbody tr th {\n",
              "        vertical-align: top;\n",
              "    }\n",
              "\n",
              "    .dataframe thead th {\n",
              "        text-align: right;\n",
              "    }\n",
              "</style>\n",
              "<table border=\"1\" class=\"dataframe\">\n",
              "  <thead>\n",
              "    <tr style=\"text-align: right;\">\n",
              "      <th></th>\n",
              "      <th>user_name</th>\n",
              "      <th>recipe_id</th>\n",
              "      <th>i</th>\n",
              "      <th>rating</th>\n",
              "      <th>Note</th>\n",
              "    </tr>\n",
              "  </thead>\n",
              "  <tbody>\n",
              "    <tr>\n",
              "      <th>0</th>\n",
              "      <td>Mai</td>\n",
              "      <td>186383</td>\n",
              "      <td>105140</td>\n",
              "      <td>4.0</td>\n",
              "      <td>Dessert</td>\n",
              "    </tr>\n",
              "    <tr>\n",
              "      <th>1</th>\n",
              "      <td>Mai</td>\n",
              "      <td>288683</td>\n",
              "      <td>38144</td>\n",
              "      <td>3.5</td>\n",
              "      <td>Dessert</td>\n",
              "    </tr>\n",
              "    <tr>\n",
              "      <th>2</th>\n",
              "      <td>Mai</td>\n",
              "      <td>60244</td>\n",
              "      <td>74743</td>\n",
              "      <td>0.0</td>\n",
              "      <td>Dessert</td>\n",
              "    </tr>\n",
              "    <tr>\n",
              "      <th>3</th>\n",
              "      <td>Mai</td>\n",
              "      <td>281968</td>\n",
              "      <td>139097</td>\n",
              "      <td>2.5</td>\n",
              "      <td>Dessert</td>\n",
              "    </tr>\n",
              "    <tr>\n",
              "      <th>4</th>\n",
              "      <td>Mai</td>\n",
              "      <td>293330</td>\n",
              "      <td>54812</td>\n",
              "      <td>3.0</td>\n",
              "      <td>Dessert</td>\n",
              "    </tr>\n",
              "    <tr>\n",
              "      <th>...</th>\n",
              "      <td>...</td>\n",
              "      <td>...</td>\n",
              "      <td>...</td>\n",
              "      <td>...</td>\n",
              "      <td>...</td>\n",
              "    </tr>\n",
              "    <tr>\n",
              "      <th>148</th>\n",
              "      <td>An</td>\n",
              "      <td>450716</td>\n",
              "      <td>92941</td>\n",
              "      <td>4.0</td>\n",
              "      <td>Veg dessert</td>\n",
              "    </tr>\n",
              "    <tr>\n",
              "      <th>149</th>\n",
              "      <td>An</td>\n",
              "      <td>78538</td>\n",
              "      <td>27487</td>\n",
              "      <td>5.0</td>\n",
              "      <td>Healthy</td>\n",
              "    </tr>\n",
              "    <tr>\n",
              "      <th>150</th>\n",
              "      <td>An</td>\n",
              "      <td>88906</td>\n",
              "      <td>101591</td>\n",
              "      <td>2.0</td>\n",
              "      <td>Healthy</td>\n",
              "    </tr>\n",
              "    <tr>\n",
              "      <th>151</th>\n",
              "      <td>An</td>\n",
              "      <td>188204</td>\n",
              "      <td>156487</td>\n",
              "      <td>3.0</td>\n",
              "      <td>Healthy</td>\n",
              "    </tr>\n",
              "    <tr>\n",
              "      <th>152</th>\n",
              "      <td>An</td>\n",
              "      <td>211438</td>\n",
              "      <td>101049</td>\n",
              "      <td>3.5</td>\n",
              "      <td>Healthy</td>\n",
              "    </tr>\n",
              "  </tbody>\n",
              "</table>\n",
              "<p>153 rows × 5 columns</p>\n",
              "</div>"
            ],
            "text/plain": [
              "    user_name  recipe_id       i  rating         Note\n",
              "0         Mai     186383  105140     4.0      Dessert\n",
              "1         Mai     288683   38144     3.5      Dessert\n",
              "2         Mai      60244   74743     0.0      Dessert\n",
              "3         Mai     281968  139097     2.5      Dessert\n",
              "4         Mai     293330   54812     3.0      Dessert\n",
              "..        ...        ...     ...     ...          ...\n",
              "148        An     450716   92941     4.0  Veg dessert\n",
              "149        An      78538   27487     5.0      Healthy\n",
              "150        An      88906  101591     2.0      Healthy\n",
              "151        An     188204  156487     3.0      Healthy\n",
              "152        An     211438  101049     3.5      Healthy\n",
              "\n",
              "[153 rows x 5 columns]"
            ]
          },
          "metadata": {
            "tags": []
          },
          "execution_count": 202
        }
      ]
    },
    {
      "cell_type": "markdown",
      "metadata": {
        "id": "q8rP8i6naQ1f"
      },
      "source": [
        "##### Visualize Demo Data:\n",
        "Link to demo data: [click here](https://docs.google.com/spreadsheets/d/1ohd2GuRR8L2ebJfp2BnZj19aILw40IRqQvJB-iD6acA/edit#gid=2021531765)"
      ]
    },
    {
      "cell_type": "code",
      "metadata": {
        "colab": {
          "base_uri": "https://localhost:8080/"
        },
        "id": "y26dqlAtChjO",
        "outputId": "3c4a72bb-e22e-443f-f375-4bab41245f4c"
      },
      "source": [
        "df_recipe = df_PP_recipe.loc[df_PP_recipe['name']=='irish kiss']\n",
        "df_recipe['food types'].values"
      ],
      "execution_count": null,
      "outputs": [
        {
          "output_type": "execute_result",
          "data": {
            "text/plain": [
              "array(['Healthy'], dtype=object)"
            ]
          },
          "metadata": {
            "tags": []
          },
          "execution_count": 203
        }
      ]
    },
    {
      "cell_type": "code",
      "metadata": {
        "id": "drh4HhMmBC6M"
      },
      "source": [
        "Mai = df_new.loc[df_new['user_name']=='Mai']"
      ],
      "execution_count": null,
      "outputs": []
    },
    {
      "cell_type": "code",
      "metadata": {
        "id": "tGJnPn-dDdCG"
      },
      "source": [
        "def user_rating_update(interactions,new_df,name_col,i_col,rate_col,user_dict):\n",
        "  username = new_df[name_col].values\n",
        "  users = []\n",
        "  for i in username:\n",
        "    if len(users)==0:\n",
        "      users.append(i)\n",
        "    else:\n",
        "      if i not in users:\n",
        "        users.append(i)\n",
        "        \n",
        "\n",
        "  for n in users:\n",
        "    user_id = name_dict[str(n)]\n",
        "    u = user_dict[user_id]\n",
        "    u_rating = np.zeros(shape=(interactions.shape[0],1))\n",
        "    df_user = new_df.loc[new_df[name_col]==n]\n",
        "    item_i = df_user[i_col].values\n",
        "    rating = df_user[rate_col].values\n",
        "    for i in range(len(item_i)):\n",
        "      u_rating[item_i[i]] = rating[i]\n",
        "    interactions[:,u] = csr_matrix(u_rating)\n",
        "    \n",
        "  print('Interactions updated')\n",
        "  return csr_matrix(u_rating)"
      ],
      "execution_count": null,
      "outputs": []
    },
    {
      "cell_type": "code",
      "metadata": {
        "colab": {
          "base_uri": "https://localhost:8080/"
        },
        "id": "93ESw5cLOitp",
        "outputId": "8e051186-93c1-479e-c5b2-48ec29c05a0d"
      },
      "source": [
        "\n",
        "a = user_rating_update(interactions,Mai,'user_name','i','rating',user_dict)\n",
        "\n"
      ],
      "execution_count": null,
      "outputs": [
        {
          "output_type": "stream",
          "text": [
            "Interactions updated\n"
          ],
          "name": "stdout"
        }
      ]
    },
    {
      "cell_type": "markdown",
      "metadata": {
        "id": "fx5J9g_bls2N"
      },
      "source": [
        "###### Reset interactions, user_dict, name_dict in case something gone wrong\n"
      ]
    },
    {
      "cell_type": "code",
      "metadata": {
        "id": "-FJTYvool6NQ"
      },
      "source": [
        "interactions = csr_matrix((df_train_rating[\"rating\"], (row, col)), \\\n",
        "                           shape=(item_c.categories.size, user_c.categories.size))\n",
        "user_dict = create_user_dict(df_train_rating,'user_id','u')\n",
        "name_dict = {}"
      ],
      "execution_count": null,
      "outputs": []
    }
  ]
}