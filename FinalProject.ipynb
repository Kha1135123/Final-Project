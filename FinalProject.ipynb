{
  "nbformat": 4,
  "nbformat_minor": 0,
  "metadata": {
    "colab": {
      "name": "FinalProject.ipynb",
      "provenance": [],
      "collapsed_sections": []
    },
    "kernelspec": {
      "display_name": "Python 3",
      "name": "python3"
    },
    "language_info": {
      "name": "python"
    }
  },
  "cells": [
    {
      "cell_type": "markdown",
      "metadata": {
        "id": "4U5jPAcFimJc"
      },
      "source": [
        "# Import Data "
      ]
    },
    {
      "cell_type": "markdown",
      "metadata": {
        "id": "YQCHKi7zocJr"
      },
      "source": [
        "Source Data: https://www.kaggle.com/shuyangli94/food-com-recipes-and-user-interactions?select=RAW_recipes.csv\n"
      ]
    },
    {
      "cell_type": "code",
      "metadata": {
        "colab": {
          "base_uri": "https://localhost:8080/"
        },
        "id": "5penV66IrYqD",
        "outputId": "6f5ec571-8233-47d4-f4ef-bc9dead27ef9"
      },
      "source": [
        "from google.colab import drive\n",
        "drive.mount('/content/drive')"
      ],
      "execution_count": 1,
      "outputs": [
        {
          "output_type": "stream",
          "text": [
            "Mounted at /content/drive\n"
          ],
          "name": "stdout"
        }
      ]
    },
    {
      "cell_type": "code",
      "metadata": {
        "colab": {
          "base_uri": "https://localhost:8080/"
        },
        "id": "vFJtxg0h6wox",
        "outputId": "e73852bd-1ecf-49e9-f5dc-3d446a44491a"
      },
      "source": [
        "!unzip '/content/drive/MyDrive/Dataset final project/archive.zip'"
      ],
      "execution_count": 4,
      "outputs": [
        {
          "output_type": "stream",
          "text": [
            "Archive:  /content/drive/MyDrive/Dataset final project/archive.zip\n",
            "  inflating: PP_recipes.csv          \n",
            "  inflating: PP_users.csv            \n",
            "  inflating: RAW_interactions.csv    \n",
            "  inflating: RAW_recipes.csv         \n",
            "  inflating: ingr_map.pkl            \n",
            "  inflating: interactions_test.csv   \n",
            "  inflating: interactions_train.csv  \n",
            "  inflating: interactions_validation.csv  \n"
          ],
          "name": "stdout"
        }
      ]
    },
    {
      "cell_type": "markdown",
      "metadata": {
        "id": "OCKPlipViv10"
      },
      "source": [
        "# Data Preprocessing\n"
      ]
    },
    {
      "cell_type": "code",
      "metadata": {
        "id": "r19-7CVe6isr"
      },
      "source": [
        "# import basic libraries\n",
        "import numpy as np\n",
        "import pandas as pd\n",
        "import warnings\n",
        "warnings.filterwarnings('ignore')\n",
        "import seaborn as sns\n",
        "sns.set()"
      ],
      "execution_count": 6,
      "outputs": []
    },
    {
      "cell_type": "markdown",
      "metadata": {
        "id": "TMZ4HUijT-PL"
      },
      "source": [
        "#### Download Data\n"
      ]
    },
    {
      "cell_type": "code",
      "metadata": {
        "id": "nCRlQCfF6pLr",
        "colab": {
          "base_uri": "https://localhost:8080/",
          "height": 374
        },
        "outputId": "66ba182b-a43d-4c2b-e897-fe58b58c18eb"
      },
      "source": [
        "df_raw_recipe = pd.read_csv('/content/RAW_recipes.csv')\n",
        "df_raw_recipe.head()"
      ],
      "execution_count": 7,
      "outputs": [
        {
          "output_type": "execute_result",
          "data": {
            "text/html": [
              "<div>\n",
              "<style scoped>\n",
              "    .dataframe tbody tr th:only-of-type {\n",
              "        vertical-align: middle;\n",
              "    }\n",
              "\n",
              "    .dataframe tbody tr th {\n",
              "        vertical-align: top;\n",
              "    }\n",
              "\n",
              "    .dataframe thead th {\n",
              "        text-align: right;\n",
              "    }\n",
              "</style>\n",
              "<table border=\"1\" class=\"dataframe\">\n",
              "  <thead>\n",
              "    <tr style=\"text-align: right;\">\n",
              "      <th></th>\n",
              "      <th>name</th>\n",
              "      <th>id</th>\n",
              "      <th>minutes</th>\n",
              "      <th>contributor_id</th>\n",
              "      <th>submitted</th>\n",
              "      <th>tags</th>\n",
              "      <th>nutrition</th>\n",
              "      <th>n_steps</th>\n",
              "      <th>steps</th>\n",
              "      <th>description</th>\n",
              "      <th>ingredients</th>\n",
              "      <th>n_ingredients</th>\n",
              "    </tr>\n",
              "  </thead>\n",
              "  <tbody>\n",
              "    <tr>\n",
              "      <th>0</th>\n",
              "      <td>arriba   baked winter squash mexican style</td>\n",
              "      <td>137739</td>\n",
              "      <td>55</td>\n",
              "      <td>47892</td>\n",
              "      <td>2005-09-16</td>\n",
              "      <td>['60-minutes-or-less', 'time-to-make', 'course...</td>\n",
              "      <td>[51.5, 0.0, 13.0, 0.0, 2.0, 0.0, 4.0]</td>\n",
              "      <td>11</td>\n",
              "      <td>['make a choice and proceed with recipe', 'dep...</td>\n",
              "      <td>autumn is my favorite time of year to cook! th...</td>\n",
              "      <td>['winter squash', 'mexican seasoning', 'mixed ...</td>\n",
              "      <td>7</td>\n",
              "    </tr>\n",
              "    <tr>\n",
              "      <th>1</th>\n",
              "      <td>a bit different  breakfast pizza</td>\n",
              "      <td>31490</td>\n",
              "      <td>30</td>\n",
              "      <td>26278</td>\n",
              "      <td>2002-06-17</td>\n",
              "      <td>['30-minutes-or-less', 'time-to-make', 'course...</td>\n",
              "      <td>[173.4, 18.0, 0.0, 17.0, 22.0, 35.0, 1.0]</td>\n",
              "      <td>9</td>\n",
              "      <td>['preheat oven to 425 degrees f', 'press dough...</td>\n",
              "      <td>this recipe calls for the crust to be prebaked...</td>\n",
              "      <td>['prepared pizza crust', 'sausage patty', 'egg...</td>\n",
              "      <td>6</td>\n",
              "    </tr>\n",
              "    <tr>\n",
              "      <th>2</th>\n",
              "      <td>all in the kitchen  chili</td>\n",
              "      <td>112140</td>\n",
              "      <td>130</td>\n",
              "      <td>196586</td>\n",
              "      <td>2005-02-25</td>\n",
              "      <td>['time-to-make', 'course', 'preparation', 'mai...</td>\n",
              "      <td>[269.8, 22.0, 32.0, 48.0, 39.0, 27.0, 5.0]</td>\n",
              "      <td>6</td>\n",
              "      <td>['brown ground beef in large pot', 'add choppe...</td>\n",
              "      <td>this modified version of 'mom's' chili was a h...</td>\n",
              "      <td>['ground beef', 'yellow onions', 'diced tomato...</td>\n",
              "      <td>13</td>\n",
              "    </tr>\n",
              "    <tr>\n",
              "      <th>3</th>\n",
              "      <td>alouette  potatoes</td>\n",
              "      <td>59389</td>\n",
              "      <td>45</td>\n",
              "      <td>68585</td>\n",
              "      <td>2003-04-14</td>\n",
              "      <td>['60-minutes-or-less', 'time-to-make', 'course...</td>\n",
              "      <td>[368.1, 17.0, 10.0, 2.0, 14.0, 8.0, 20.0]</td>\n",
              "      <td>11</td>\n",
              "      <td>['place potatoes in a large pot of lightly sal...</td>\n",
              "      <td>this is a super easy, great tasting, make ahea...</td>\n",
              "      <td>['spreadable cheese with garlic and herbs', 'n...</td>\n",
              "      <td>11</td>\n",
              "    </tr>\n",
              "    <tr>\n",
              "      <th>4</th>\n",
              "      <td>amish  tomato ketchup  for canning</td>\n",
              "      <td>44061</td>\n",
              "      <td>190</td>\n",
              "      <td>41706</td>\n",
              "      <td>2002-10-25</td>\n",
              "      <td>['weeknight', 'time-to-make', 'course', 'main-...</td>\n",
              "      <td>[352.9, 1.0, 337.0, 23.0, 3.0, 0.0, 28.0]</td>\n",
              "      <td>5</td>\n",
              "      <td>['mix all ingredients&amp; boil for 2 1 / 2 hours ...</td>\n",
              "      <td>my dh's amish mother raised him on this recipe...</td>\n",
              "      <td>['tomato juice', 'apple cider vinegar', 'sugar...</td>\n",
              "      <td>8</td>\n",
              "    </tr>\n",
              "  </tbody>\n",
              "</table>\n",
              "</div>"
            ],
            "text/plain": [
              "                                         name  ...  n_ingredients\n",
              "0  arriba   baked winter squash mexican style  ...              7\n",
              "1            a bit different  breakfast pizza  ...              6\n",
              "2                   all in the kitchen  chili  ...             13\n",
              "3                          alouette  potatoes  ...             11\n",
              "4          amish  tomato ketchup  for canning  ...              8\n",
              "\n",
              "[5 rows x 12 columns]"
            ]
          },
          "metadata": {
            "tags": []
          },
          "execution_count": 7
        }
      ]
    },
    {
      "cell_type": "code",
      "metadata": {
        "id": "lx83qev97CfR",
        "colab": {
          "base_uri": "https://localhost:8080/",
          "height": 289
        },
        "outputId": "c6673ab0-a6c6-4efe-efa4-92362c113807"
      },
      "source": [
        "df_PP_recipe = pd.read_csv('/content/PP_recipes.csv')\n",
        "df_PP_recipe.head()"
      ],
      "execution_count": 8,
      "outputs": [
        {
          "output_type": "execute_result",
          "data": {
            "text/html": [
              "<div>\n",
              "<style scoped>\n",
              "    .dataframe tbody tr th:only-of-type {\n",
              "        vertical-align: middle;\n",
              "    }\n",
              "\n",
              "    .dataframe tbody tr th {\n",
              "        vertical-align: top;\n",
              "    }\n",
              "\n",
              "    .dataframe thead th {\n",
              "        text-align: right;\n",
              "    }\n",
              "</style>\n",
              "<table border=\"1\" class=\"dataframe\">\n",
              "  <thead>\n",
              "    <tr style=\"text-align: right;\">\n",
              "      <th></th>\n",
              "      <th>id</th>\n",
              "      <th>i</th>\n",
              "      <th>name_tokens</th>\n",
              "      <th>ingredient_tokens</th>\n",
              "      <th>steps_tokens</th>\n",
              "      <th>techniques</th>\n",
              "      <th>calorie_level</th>\n",
              "      <th>ingredient_ids</th>\n",
              "    </tr>\n",
              "  </thead>\n",
              "  <tbody>\n",
              "    <tr>\n",
              "      <th>0</th>\n",
              "      <td>424415</td>\n",
              "      <td>23</td>\n",
              "      <td>[40480, 37229, 2911, 1019, 249, 6878, 6878, 28...</td>\n",
              "      <td>[[2911, 1019, 249, 6878], [1353], [6953], [153...</td>\n",
              "      <td>[40480, 40482, 21662, 481, 6878, 500, 246, 161...</td>\n",
              "      <td>[0, 0, 0, 0, 0, 0, 0, 0, 0, 1, 0, 0, 0, 0, 0, ...</td>\n",
              "      <td>0</td>\n",
              "      <td>[389, 7655, 6270, 1527, 3406]</td>\n",
              "    </tr>\n",
              "    <tr>\n",
              "      <th>1</th>\n",
              "      <td>146223</td>\n",
              "      <td>96900</td>\n",
              "      <td>[40480, 18376, 7056, 246, 1531, 2032, 40481]</td>\n",
              "      <td>[[17918], [25916], [2507, 6444], [8467, 1179],...</td>\n",
              "      <td>[40480, 40482, 729, 2525, 10906, 485, 43, 8393...</td>\n",
              "      <td>[1, 0, 0, 0, 0, 0, 0, 0, 0, 1, 0, 0, 0, 0, 0, ...</td>\n",
              "      <td>0</td>\n",
              "      <td>[2683, 4969, 800, 5298, 840, 2499, 6632, 7022,...</td>\n",
              "    </tr>\n",
              "    <tr>\n",
              "      <th>2</th>\n",
              "      <td>312329</td>\n",
              "      <td>120056</td>\n",
              "      <td>[40480, 21044, 16954, 8294, 556, 10837, 40481]</td>\n",
              "      <td>[[5867, 24176], [1353], [6953], [1301, 11332],...</td>\n",
              "      <td>[40480, 40482, 8240, 481, 24176, 296, 1353, 66...</td>\n",
              "      <td>[0, 0, 0, 0, 1, 0, 0, 0, 0, 0, 0, 1, 0, 0, 0, ...</td>\n",
              "      <td>1</td>\n",
              "      <td>[1257, 7655, 6270, 590, 5024, 1119, 4883, 6696...</td>\n",
              "    </tr>\n",
              "    <tr>\n",
              "      <th>3</th>\n",
              "      <td>74301</td>\n",
              "      <td>168258</td>\n",
              "      <td>[40480, 10025, 31156, 40481]</td>\n",
              "      <td>[[1270, 1645, 28447], [21601], [27952, 29471, ...</td>\n",
              "      <td>[40480, 40482, 5539, 21601, 1073, 903, 2324, 4...</td>\n",
              "      <td>[1, 0, 0, 0, 0, 0, 0, 0, 0, 0, 0, 0, 0, 0, 0, ...</td>\n",
              "      <td>0</td>\n",
              "      <td>[7940, 3609, 7060, 6265, 1170, 6654, 5003, 3561]</td>\n",
              "    </tr>\n",
              "    <tr>\n",
              "      <th>4</th>\n",
              "      <td>76272</td>\n",
              "      <td>109030</td>\n",
              "      <td>[40480, 17841, 252, 782, 2373, 1641, 2373, 252...</td>\n",
              "      <td>[[1430, 11434], [1430, 17027], [1615, 23, 695,...</td>\n",
              "      <td>[40480, 40482, 14046, 1430, 11434, 488, 17027,...</td>\n",
              "      <td>[0, 0, 0, 0, 0, 0, 0, 0, 0, 1, 0, 0, 0, 0, 0, ...</td>\n",
              "      <td>0</td>\n",
              "      <td>[3484, 6324, 7594, 243]</td>\n",
              "    </tr>\n",
              "  </tbody>\n",
              "</table>\n",
              "</div>"
            ],
            "text/plain": [
              "       id  ...                                     ingredient_ids\n",
              "0  424415  ...                      [389, 7655, 6270, 1527, 3406]\n",
              "1  146223  ...  [2683, 4969, 800, 5298, 840, 2499, 6632, 7022,...\n",
              "2  312329  ...  [1257, 7655, 6270, 590, 5024, 1119, 4883, 6696...\n",
              "3   74301  ...   [7940, 3609, 7060, 6265, 1170, 6654, 5003, 3561]\n",
              "4   76272  ...                            [3484, 6324, 7594, 243]\n",
              "\n",
              "[5 rows x 8 columns]"
            ]
          },
          "metadata": {
            "tags": []
          },
          "execution_count": 8
        }
      ]
    },
    {
      "cell_type": "code",
      "metadata": {
        "id": "qjzFBHXZhxlE",
        "colab": {
          "base_uri": "https://localhost:8080/",
          "height": 649
        },
        "outputId": "7f1a1d1e-75d7-47e5-9508-88a7f7ec4444"
      },
      "source": [
        "df_PP_recipe = pd.merge(df_PP_recipe,df_raw_recipe)\n",
        "df_PP_recipe.sort_values(by='i', inplace=True)\n",
        "df_PP_recipe.head()"
      ],
      "execution_count": 9,
      "outputs": [
        {
          "output_type": "execute_result",
          "data": {
            "text/html": [
              "<div>\n",
              "<style scoped>\n",
              "    .dataframe tbody tr th:only-of-type {\n",
              "        vertical-align: middle;\n",
              "    }\n",
              "\n",
              "    .dataframe tbody tr th {\n",
              "        vertical-align: top;\n",
              "    }\n",
              "\n",
              "    .dataframe thead th {\n",
              "        text-align: right;\n",
              "    }\n",
              "</style>\n",
              "<table border=\"1\" class=\"dataframe\">\n",
              "  <thead>\n",
              "    <tr style=\"text-align: right;\">\n",
              "      <th></th>\n",
              "      <th>id</th>\n",
              "      <th>i</th>\n",
              "      <th>name_tokens</th>\n",
              "      <th>ingredient_tokens</th>\n",
              "      <th>steps_tokens</th>\n",
              "      <th>techniques</th>\n",
              "      <th>calorie_level</th>\n",
              "      <th>ingredient_ids</th>\n",
              "      <th>name</th>\n",
              "      <th>minutes</th>\n",
              "      <th>contributor_id</th>\n",
              "      <th>submitted</th>\n",
              "      <th>tags</th>\n",
              "      <th>nutrition</th>\n",
              "      <th>n_steps</th>\n",
              "      <th>steps</th>\n",
              "      <th>description</th>\n",
              "      <th>ingredients</th>\n",
              "      <th>n_ingredients</th>\n",
              "    </tr>\n",
              "  </thead>\n",
              "  <tbody>\n",
              "    <tr>\n",
              "      <th>46053</th>\n",
              "      <td>40893</td>\n",
              "      <td>0</td>\n",
              "      <td>[40480, 1454, 16201, 2056, 955, 541, 11332, 82...</td>\n",
              "      <td>[[1424, 8876, 11007], [3484, 21453], [38966, 2...</td>\n",
              "      <td>[40480, 40482, 23667, 11007, 240, 21453, 240, ...</td>\n",
              "      <td>[0, 0, 0, 0, 0, 0, 0, 0, 0, 1, 1, 0, 0, 0, 0, ...</td>\n",
              "      <td>0</td>\n",
              "      <td>[3384, 7979, 2127, 3502, 3217, 1257, 2778, 500...</td>\n",
              "      <td>white bean   green chile pepper soup</td>\n",
              "      <td>495</td>\n",
              "      <td>1533</td>\n",
              "      <td>2002-09-21</td>\n",
              "      <td>['weeknight', 'time-to-make', 'course', 'main-...</td>\n",
              "      <td>[204.8, 5.0, 9.0, 26.0, 24.0, 2.0, 10.0]</td>\n",
              "      <td>4</td>\n",
              "      <td>['combine beans , onion , chilies , 1 / 2 teas...</td>\n",
              "      <td>easy soup for the crockpot.</td>\n",
              "      <td>['great northern beans', 'yellow onion', 'dice...</td>\n",
              "      <td>9</td>\n",
              "    </tr>\n",
              "    <tr>\n",
              "      <th>108526</th>\n",
              "      <td>44394</td>\n",
              "      <td>1</td>\n",
              "      <td>[40480, 34712, 22683, 11274, 5409, 29868, 40481]</td>\n",
              "      <td>[[5343, 535, 2044, 5409, 7087], [17869, 6020],...</td>\n",
              "      <td>[40480, 40482, 12172, 1281, 5409, 7087, 240, 6...</td>\n",
              "      <td>[1, 0, 0, 1, 0, 0, 0, 0, 0, 0, 0, 0, 0, 0, 0, ...</td>\n",
              "      <td>0</td>\n",
              "      <td>[912, 7557, 2499, 5382]</td>\n",
              "      <td>devilicious cookie cake delights</td>\n",
              "      <td>20</td>\n",
              "      <td>56824</td>\n",
              "      <td>2002-10-27</td>\n",
              "      <td>['30-minutes-or-less', 'time-to-make', 'course...</td>\n",
              "      <td>[132.3, 11.0, 39.0, 5.0, 4.0, 11.0, 5.0]</td>\n",
              "      <td>5</td>\n",
              "      <td>['blend together cake mix , oil and eggs', 'ad...</td>\n",
              "      <td>NaN</td>\n",
              "      <td>[\"devil's food cake mix\", 'vegetable oil', 'eg...</td>\n",
              "      <td>4</td>\n",
              "    </tr>\n",
              "    <tr>\n",
              "      <th>41248</th>\n",
              "      <td>85009</td>\n",
              "      <td>2</td>\n",
              "      <td>[40480, 12187, 13995, 571, 14719, 40481]</td>\n",
              "      <td>[[1061, 494, 813, 2141], [31843], [30645, 4785...</td>\n",
              "      <td>[40480, 40482, 2572, 19472, 31757, 512, 823, 4...</td>\n",
              "      <td>[1, 0, 0, 0, 0, 0, 0, 1, 0, 1, 0, 0, 0, 0, 0, ...</td>\n",
              "      <td>2</td>\n",
              "      <td>[4623, 6265, 1168, 6016, 3597, 3440, 7213, 169...</td>\n",
              "      <td>baked potato toppings</td>\n",
              "      <td>10</td>\n",
              "      <td>64342</td>\n",
              "      <td>2004-02-25</td>\n",
              "      <td>['15-minutes-or-less', 'time-to-make', 'course...</td>\n",
              "      <td>[2786.2, 342.0, 134.0, 290.0, 161.0, 301.0, 42.0]</td>\n",
              "      <td>3</td>\n",
              "      <td>['pick whichever topping you want to use and c...</td>\n",
              "      <td>these toppings sure makes a nice change from p...</td>\n",
              "      <td>['mayonnaise', 'salsa', 'cheddar cheese', 'ref...</td>\n",
              "      <td>13</td>\n",
              "    </tr>\n",
              "    <tr>\n",
              "      <th>28248</th>\n",
              "      <td>134728</td>\n",
              "      <td>3</td>\n",
              "      <td>[40480, 27, 12, 263, 4017, 1494, 273, 14122, 4...</td>\n",
              "      <td>[[5867, 34056], [17918], [15022, 8361], [6953]...</td>\n",
              "      <td>[40480, 40482, 7087, 17918, 240, 6953, 488, 11...</td>\n",
              "      <td>[1, 0, 0, 0, 0, 0, 0, 0, 0, 0, 0, 0, 0, 0, 0, ...</td>\n",
              "      <td>1</td>\n",
              "      <td>[1304, 2683, 3217, 6270, 3532, 869, 7557, 3698...</td>\n",
              "      <td>kfc honey bbq strips</td>\n",
              "      <td>40</td>\n",
              "      <td>166019</td>\n",
              "      <td>2005-08-24</td>\n",
              "      <td>['60-minutes-or-less', 'time-to-make', 'main-i...</td>\n",
              "      <td>[316.0, 4.0, 40.0, 37.0, 78.0, 4.0, 10.0]</td>\n",
              "      <td>10</td>\n",
              "      <td>['mix flour , salt and pepper in bowl', 'set a...</td>\n",
              "      <td>these are so yummy and they do taste just like...</td>\n",
              "      <td>['chicken tenders', 'flour', 'garlic powder', ...</td>\n",
              "      <td>12</td>\n",
              "    </tr>\n",
              "    <tr>\n",
              "      <th>177870</th>\n",
              "      <td>200236</td>\n",
              "      <td>4</td>\n",
              "      <td>[40480, 16212, 11880, 556, 19811, 12772, 22075...</td>\n",
              "      <td>[[16212, 1535], [6953], [1430, 1301, 11332], [...</td>\n",
              "      <td>[40480, 40482, 2525, 10906, 485, 29848, 40478,...</td>\n",
              "      <td>[0, 0, 0, 0, 0, 0, 0, 0, 0, 0, 0, 0, 1, 0, 0, ...</td>\n",
              "      <td>2</td>\n",
              "      <td>[4130, 6270, 3486, 7557, 5010, 3203, 2683, 125...</td>\n",
              "      <td>lamb stew with tomatoes  chickpeas and spices</td>\n",
              "      <td>150</td>\n",
              "      <td>398869</td>\n",
              "      <td>2006-12-11</td>\n",
              "      <td>['time-to-make', 'course', 'main-ingredient', ...</td>\n",
              "      <td>[606.5, 65.0, 12.0, 34.0, 65.0, 83.0, 7.0]</td>\n",
              "      <td>14</td>\n",
              "      <td>['heat oven to 250', 'toss lamb with salt and ...</td>\n",
              "      <td>north african spices with a basic meat stew re...</td>\n",
              "      <td>['lamb shoulder', 'salt', 'ground black pepper...</td>\n",
              "      <td>16</td>\n",
              "    </tr>\n",
              "  </tbody>\n",
              "</table>\n",
              "</div>"
            ],
            "text/plain": [
              "            id  ...  n_ingredients\n",
              "46053    40893  ...              9\n",
              "108526   44394  ...              4\n",
              "41248    85009  ...             13\n",
              "28248   134728  ...             12\n",
              "177870  200236  ...             16\n",
              "\n",
              "[5 rows x 19 columns]"
            ]
          },
          "metadata": {
            "tags": []
          },
          "execution_count": 9
        }
      ]
    },
    {
      "cell_type": "code",
      "metadata": {
        "id": "N45UpWIxUnr2"
      },
      "source": [
        "data,data2,data3 = '/content/interactions_test.csv', '/content/interactions_train.csv', '/content/interactions_validation.csv'"
      ],
      "execution_count": 10,
      "outputs": []
    },
    {
      "cell_type": "code",
      "metadata": {
        "id": "1UHPzzScV0Or",
        "colab": {
          "base_uri": "https://localhost:8080/",
          "height": 204
        },
        "outputId": "926765b2-827c-4fb9-f5e4-7f5f68c1c265"
      },
      "source": [
        "df = pd.read_csv(data)\n",
        "df2 = pd.read_csv(data2)\n",
        "df3 = pd.read_csv(data3)\n",
        "df_train_rating = pd.concat([df,df2,df3]).drop_duplicates()\n",
        "df_train_rating.head()"
      ],
      "execution_count": 11,
      "outputs": [
        {
          "output_type": "execute_result",
          "data": {
            "text/html": [
              "<div>\n",
              "<style scoped>\n",
              "    .dataframe tbody tr th:only-of-type {\n",
              "        vertical-align: middle;\n",
              "    }\n",
              "\n",
              "    .dataframe tbody tr th {\n",
              "        vertical-align: top;\n",
              "    }\n",
              "\n",
              "    .dataframe thead th {\n",
              "        text-align: right;\n",
              "    }\n",
              "</style>\n",
              "<table border=\"1\" class=\"dataframe\">\n",
              "  <thead>\n",
              "    <tr style=\"text-align: right;\">\n",
              "      <th></th>\n",
              "      <th>user_id</th>\n",
              "      <th>recipe_id</th>\n",
              "      <th>date</th>\n",
              "      <th>rating</th>\n",
              "      <th>u</th>\n",
              "      <th>i</th>\n",
              "    </tr>\n",
              "  </thead>\n",
              "  <tbody>\n",
              "    <tr>\n",
              "      <th>0</th>\n",
              "      <td>8937</td>\n",
              "      <td>44551</td>\n",
              "      <td>2005-12-23</td>\n",
              "      <td>4.0</td>\n",
              "      <td>2</td>\n",
              "      <td>173538</td>\n",
              "    </tr>\n",
              "    <tr>\n",
              "      <th>1</th>\n",
              "      <td>56680</td>\n",
              "      <td>126118</td>\n",
              "      <td>2006-10-07</td>\n",
              "      <td>4.0</td>\n",
              "      <td>16</td>\n",
              "      <td>177847</td>\n",
              "    </tr>\n",
              "    <tr>\n",
              "      <th>2</th>\n",
              "      <td>349752</td>\n",
              "      <td>219596</td>\n",
              "      <td>2008-04-12</td>\n",
              "      <td>0.0</td>\n",
              "      <td>26</td>\n",
              "      <td>89896</td>\n",
              "    </tr>\n",
              "    <tr>\n",
              "      <th>3</th>\n",
              "      <td>628951</td>\n",
              "      <td>82783</td>\n",
              "      <td>2007-11-13</td>\n",
              "      <td>2.0</td>\n",
              "      <td>45</td>\n",
              "      <td>172637</td>\n",
              "    </tr>\n",
              "    <tr>\n",
              "      <th>4</th>\n",
              "      <td>92816</td>\n",
              "      <td>435013</td>\n",
              "      <td>2013-07-31</td>\n",
              "      <td>3.0</td>\n",
              "      <td>52</td>\n",
              "      <td>177935</td>\n",
              "    </tr>\n",
              "  </tbody>\n",
              "</table>\n",
              "</div>"
            ],
            "text/plain": [
              "   user_id  recipe_id        date  rating   u       i\n",
              "0     8937      44551  2005-12-23     4.0   2  173538\n",
              "1    56680     126118  2006-10-07     4.0  16  177847\n",
              "2   349752     219596  2008-04-12     0.0  26   89896\n",
              "3   628951      82783  2007-11-13     2.0  45  172637\n",
              "4    92816     435013  2013-07-31     3.0  52  177935"
            ]
          },
          "metadata": {
            "tags": []
          },
          "execution_count": 11
        }
      ]
    },
    {
      "cell_type": "markdown",
      "metadata": {
        "id": "v7Bo4WZl33jj"
      },
      "source": [
        "#### Create Utility Matrix"
      ]
    },
    {
      "cell_type": "code",
      "metadata": {
        "id": "8DSCBNlozvsB"
      },
      "source": [
        "#Users-items utility matrix\n",
        "from scipy.sparse import csr_matrix, vstack, hstack\n",
        "from pandas.api.types import CategoricalDtype\n",
        "\n",
        "item_c = CategoricalDtype(sorted(df_train_rating.i.unique()), ordered=True)\n",
        "user_c = CategoricalDtype(sorted(df_train_rating.u.unique()), ordered=True)\n",
        "\n",
        "col = df_train_rating.i.astype(item_c).cat.codes\n",
        "row = df_train_rating.u.astype(user_c).cat.codes\n",
        "interactions = csr_matrix((df_train_rating[\"rating\"], (row, col)), \\\n",
        "                           shape=(user_c.categories.size,item_c.categories.size))"
      ],
      "execution_count": 12,
      "outputs": []
    },
    {
      "cell_type": "code",
      "metadata": {
        "colab": {
          "base_uri": "https://localhost:8080/"
        },
        "id": "jGQsaQ1nfm6b",
        "outputId": "1d506e4a-6d78-4120-9448-29a2bf1c8e61"
      },
      "source": [
        "interactions"
      ],
      "execution_count": 13,
      "outputs": [
        {
          "output_type": "execute_result",
          "data": {
            "text/plain": [
              "<25076x178265 sparse matrix of type '<class 'numpy.float64'>'\n",
              "\twith 718379 stored elements in Compressed Sparse Row format>"
            ]
          },
          "metadata": {
            "tags": []
          },
          "execution_count": 13
        }
      ]
    },
    {
      "cell_type": "markdown",
      "metadata": {
        "id": "n8mwSB7y8m5S"
      },
      "source": [
        "#### Create Dictionary containing Items and Users informations\n",
        "\n"
      ]
    },
    {
      "cell_type": "code",
      "metadata": {
        "id": "LL71k8LGhbbB"
      },
      "source": [
        "def create_item_dict(df,id_col,name_col):\n",
        "    item_dict = {}\n",
        "    for i in range(df.shape[0]):\n",
        "        item_dict[(df.loc[i,id_col])] = df.loc[i,name_col]\n",
        "    return item_dict\n",
        "\n",
        "def create_user_dict(df,user_ids_col,u_col):\n",
        "    user_id = list(df[user_ids_col])\n",
        "    user_dict = {}\n",
        "    u_index = list(df[u_col])\n",
        "    for i in range(len(user_id)):\n",
        "        user_dict[user_id[i]] = u_index[i]\n",
        "    return user_dict\n",
        "    "
      ],
      "execution_count": 14,
      "outputs": []
    },
    {
      "cell_type": "code",
      "metadata": {
        "id": "X3rPEvFohfK_"
      },
      "source": [
        "item_dict = create_item_dict(df_PP_recipe,'i','name')\n",
        "#item_dict"
      ],
      "execution_count": 15,
      "outputs": []
    },
    {
      "cell_type": "code",
      "metadata": {
        "id": "VSk9lzrp1tCm"
      },
      "source": [
        "user_dict = create_user_dict(df_train_rating,'user_id','u')\n",
        "#user_dict"
      ],
      "execution_count": 16,
      "outputs": []
    },
    {
      "cell_type": "markdown",
      "metadata": {
        "id": "S3GUc-0eUcB1"
      },
      "source": [
        "### Create Item's Features Map"
      ]
    },
    {
      "cell_type": "code",
      "metadata": {
        "id": "HGrvwOwwNDC-"
      },
      "source": [
        "def convert_string_to_float(s):\n",
        "  s = s.replace('[','').replace(']','')\n",
        "  s = np.fromstring(s,dtype=float,sep=',')\n",
        "  return s"
      ],
      "execution_count": null,
      "outputs": []
    },
    {
      "cell_type": "markdown",
      "metadata": {
        "id": "kZ904APRHIk5"
      },
      "source": [
        "#### Nutritions values\n"
      ]
    },
    {
      "cell_type": "code",
      "metadata": {
        "id": "v68rC6N99kJe"
      },
      "source": [
        "str_nutritions = df_PP_recipe.nutrition.values\n",
        "nutrition_labels = ['calories', 'total fat (PDV)', 'sugar (PDV)' , 'sodium (PDV)' , 'protein (PDV)' , 'saturated fat (PDV)', 'carbohydrates (PDV)']"
      ],
      "execution_count": null,
      "outputs": []
    },
    {
      "cell_type": "code",
      "metadata": {
        "id": "TgqKWtM9xuO5"
      },
      "source": [
        "flt_nutritions = []\n",
        "for i in str_nutritions:\n",
        "  flt_nutritions.append(convert_string_to_float(i))"
      ],
      "execution_count": null,
      "outputs": []
    },
    {
      "cell_type": "code",
      "metadata": {
        "id": "vBZCc2RwIMVQ"
      },
      "source": [
        "nutritions_map = {'recipe_id':[]}\n",
        "for i in nutrition_labels: \n",
        "  nutritions_map[i] = []"
      ],
      "execution_count": null,
      "outputs": []
    },
    {
      "cell_type": "code",
      "metadata": {
        "id": "G6BtG3OnLCRn"
      },
      "source": [
        "ids = df_PP_recipe.i.values \n",
        "nutritions_map['recipe_id'] = ids \n",
        "calories = []\n",
        "totalfat = []\n",
        "sugar = []\n",
        "na = []\n",
        "protein = []\n",
        "sat_fat = []\n",
        "carb = []\n",
        "for map in flt_nutritions: \n",
        "  calories.append(map[0])\n",
        "  totalfat.append(map[1])\n",
        "  sugar.append(map[2])\n",
        "  na.append(map[3])\n",
        "  protein.append(map[4])\n",
        "  sat_fat.append(map[5])\n",
        "  carb.append(map[6])"
      ],
      "execution_count": null,
      "outputs": []
    },
    {
      "cell_type": "code",
      "metadata": {
        "id": "nZwJ8T1XwxkQ"
      },
      "source": [
        "nutritions_map['calories']=calories\n",
        "nutritions_map['total fat (PDV)']=totalfat\n",
        "nutritions_map['sugar (PDV)']=sugar\n",
        "nutritions_map['sodium (PDV)']=na\n",
        "nutritions_map['protein (PDV)']=protein\n",
        "nutritions_map['saturated fat (PDV)']=sat_fat\n",
        "nutritions_map['carbohydrates (PDV)']=carb"
      ],
      "execution_count": null,
      "outputs": []
    },
    {
      "cell_type": "code",
      "metadata": {
        "colab": {
          "base_uri": "https://localhost:8080/",
          "height": 198
        },
        "id": "EqidOE2xQKD1",
        "outputId": "53f23a02-bd2a-4e92-b32e-4922ad0a2fdb"
      },
      "source": [
        "df_nutritions = pd.DataFrame(data = nutritions_map)\n",
        "df_nutritions.head()"
      ],
      "execution_count": null,
      "outputs": [
        {
          "output_type": "execute_result",
          "data": {
            "text/html": [
              "<div>\n",
              "<style scoped>\n",
              "    .dataframe tbody tr th:only-of-type {\n",
              "        vertical-align: middle;\n",
              "    }\n",
              "\n",
              "    .dataframe tbody tr th {\n",
              "        vertical-align: top;\n",
              "    }\n",
              "\n",
              "    .dataframe thead th {\n",
              "        text-align: right;\n",
              "    }\n",
              "</style>\n",
              "<table border=\"1\" class=\"dataframe\">\n",
              "  <thead>\n",
              "    <tr style=\"text-align: right;\">\n",
              "      <th></th>\n",
              "      <th>recipe_id</th>\n",
              "      <th>calories</th>\n",
              "      <th>total fat (PDV)</th>\n",
              "      <th>sugar (PDV)</th>\n",
              "      <th>sodium (PDV)</th>\n",
              "      <th>protein (PDV)</th>\n",
              "      <th>saturated fat (PDV)</th>\n",
              "      <th>carbohydrates (PDV)</th>\n",
              "    </tr>\n",
              "  </thead>\n",
              "  <tbody>\n",
              "    <tr>\n",
              "      <th>0</th>\n",
              "      <td>0</td>\n",
              "      <td>204.8</td>\n",
              "      <td>5.0</td>\n",
              "      <td>9.0</td>\n",
              "      <td>26.0</td>\n",
              "      <td>24.0</td>\n",
              "      <td>2.0</td>\n",
              "      <td>10.0</td>\n",
              "    </tr>\n",
              "    <tr>\n",
              "      <th>1</th>\n",
              "      <td>1</td>\n",
              "      <td>132.3</td>\n",
              "      <td>11.0</td>\n",
              "      <td>39.0</td>\n",
              "      <td>5.0</td>\n",
              "      <td>4.0</td>\n",
              "      <td>11.0</td>\n",
              "      <td>5.0</td>\n",
              "    </tr>\n",
              "    <tr>\n",
              "      <th>2</th>\n",
              "      <td>2</td>\n",
              "      <td>2786.2</td>\n",
              "      <td>342.0</td>\n",
              "      <td>134.0</td>\n",
              "      <td>290.0</td>\n",
              "      <td>161.0</td>\n",
              "      <td>301.0</td>\n",
              "      <td>42.0</td>\n",
              "    </tr>\n",
              "    <tr>\n",
              "      <th>3</th>\n",
              "      <td>3</td>\n",
              "      <td>316.0</td>\n",
              "      <td>4.0</td>\n",
              "      <td>40.0</td>\n",
              "      <td>37.0</td>\n",
              "      <td>78.0</td>\n",
              "      <td>4.0</td>\n",
              "      <td>10.0</td>\n",
              "    </tr>\n",
              "    <tr>\n",
              "      <th>4</th>\n",
              "      <td>4</td>\n",
              "      <td>606.5</td>\n",
              "      <td>65.0</td>\n",
              "      <td>12.0</td>\n",
              "      <td>34.0</td>\n",
              "      <td>65.0</td>\n",
              "      <td>83.0</td>\n",
              "      <td>7.0</td>\n",
              "    </tr>\n",
              "  </tbody>\n",
              "</table>\n",
              "</div>"
            ],
            "text/plain": [
              "   recipe_id  calories  ...  saturated fat (PDV)  carbohydrates (PDV)\n",
              "0          0     204.8  ...                  2.0                 10.0\n",
              "1          1     132.3  ...                 11.0                  5.0\n",
              "2          2    2786.2  ...                301.0                 42.0\n",
              "3          3     316.0  ...                  4.0                 10.0\n",
              "4          4     606.5  ...                 83.0                  7.0\n",
              "\n",
              "[5 rows x 8 columns]"
            ]
          },
          "metadata": {
            "tags": []
          },
          "execution_count": 25
        }
      ]
    },
    {
      "cell_type": "markdown",
      "metadata": {
        "id": "7oNLDM_SHM5F"
      },
      "source": [
        "#### Recipe's Requirements Informations"
      ]
    },
    {
      "cell_type": "code",
      "metadata": {
        "id": "1CdEf_Sr3b7C"
      },
      "source": [
        "minutes = df_PP_recipe.minutes.values\n",
        "steps = df_PP_recipe.n_steps.values\n",
        "ingredients = df_PP_recipe.n_ingredients.values\n",
        "\n",
        "features = {'recipe_id':[],'minutes':[],'n_steps':[],'n_ingredient':[]}\n",
        "features['recipe_id'] = ids\n",
        "features['minutes'] = minutes\n",
        "features['n_steps'] = steps\n",
        "features['n_ingredient'] = ingredients"
      ],
      "execution_count": null,
      "outputs": []
    },
    {
      "cell_type": "code",
      "metadata": {
        "colab": {
          "base_uri": "https://localhost:8080/",
          "height": 198
        },
        "id": "KI301LNn4bIR",
        "outputId": "e296d839-5af1-4df6-9412-37d133407b99"
      },
      "source": [
        "df_embed = pd.DataFrame(data = features)\n",
        "df_embed.head()"
      ],
      "execution_count": null,
      "outputs": [
        {
          "output_type": "execute_result",
          "data": {
            "text/html": [
              "<div>\n",
              "<style scoped>\n",
              "    .dataframe tbody tr th:only-of-type {\n",
              "        vertical-align: middle;\n",
              "    }\n",
              "\n",
              "    .dataframe tbody tr th {\n",
              "        vertical-align: top;\n",
              "    }\n",
              "\n",
              "    .dataframe thead th {\n",
              "        text-align: right;\n",
              "    }\n",
              "</style>\n",
              "<table border=\"1\" class=\"dataframe\">\n",
              "  <thead>\n",
              "    <tr style=\"text-align: right;\">\n",
              "      <th></th>\n",
              "      <th>recipe_id</th>\n",
              "      <th>minutes</th>\n",
              "      <th>n_steps</th>\n",
              "      <th>n_ingredient</th>\n",
              "    </tr>\n",
              "  </thead>\n",
              "  <tbody>\n",
              "    <tr>\n",
              "      <th>0</th>\n",
              "      <td>0</td>\n",
              "      <td>495</td>\n",
              "      <td>4</td>\n",
              "      <td>9</td>\n",
              "    </tr>\n",
              "    <tr>\n",
              "      <th>1</th>\n",
              "      <td>1</td>\n",
              "      <td>20</td>\n",
              "      <td>5</td>\n",
              "      <td>4</td>\n",
              "    </tr>\n",
              "    <tr>\n",
              "      <th>2</th>\n",
              "      <td>2</td>\n",
              "      <td>10</td>\n",
              "      <td>3</td>\n",
              "      <td>13</td>\n",
              "    </tr>\n",
              "    <tr>\n",
              "      <th>3</th>\n",
              "      <td>3</td>\n",
              "      <td>40</td>\n",
              "      <td>10</td>\n",
              "      <td>12</td>\n",
              "    </tr>\n",
              "    <tr>\n",
              "      <th>4</th>\n",
              "      <td>4</td>\n",
              "      <td>150</td>\n",
              "      <td>14</td>\n",
              "      <td>16</td>\n",
              "    </tr>\n",
              "  </tbody>\n",
              "</table>\n",
              "</div>"
            ],
            "text/plain": [
              "   recipe_id  minutes  n_steps  n_ingredient\n",
              "0          0      495        4             9\n",
              "1          1       20        5             4\n",
              "2          2       10        3            13\n",
              "3          3       40       10            12\n",
              "4          4      150       14            16"
            ]
          },
          "metadata": {
            "tags": []
          },
          "execution_count": 27
        }
      ]
    },
    {
      "cell_type": "code",
      "metadata": {
        "id": "fCbzk35E4i9k",
        "colab": {
          "base_uri": "https://localhost:8080/",
          "height": 425
        },
        "outputId": "d928beae-72c6-4df1-a05a-503dae59704f"
      },
      "source": [
        "df_embed = pd.merge(df_embed,df_nutritions)\n",
        "df_embed"
      ],
      "execution_count": null,
      "outputs": [
        {
          "output_type": "execute_result",
          "data": {
            "text/html": [
              "<div>\n",
              "<style scoped>\n",
              "    .dataframe tbody tr th:only-of-type {\n",
              "        vertical-align: middle;\n",
              "    }\n",
              "\n",
              "    .dataframe tbody tr th {\n",
              "        vertical-align: top;\n",
              "    }\n",
              "\n",
              "    .dataframe thead th {\n",
              "        text-align: right;\n",
              "    }\n",
              "</style>\n",
              "<table border=\"1\" class=\"dataframe\">\n",
              "  <thead>\n",
              "    <tr style=\"text-align: right;\">\n",
              "      <th></th>\n",
              "      <th>minutes</th>\n",
              "      <th>n_steps</th>\n",
              "      <th>n_ingredient</th>\n",
              "      <th>calories</th>\n",
              "      <th>total fat (PDV)</th>\n",
              "      <th>sugar (PDV)</th>\n",
              "      <th>sodium (PDV)</th>\n",
              "      <th>protein (PDV)</th>\n",
              "      <th>saturated fat (PDV)</th>\n",
              "      <th>carbohydrates (PDV)</th>\n",
              "      <th>Healthy</th>\n",
              "      <th>Non-Veg dessert</th>\n",
              "      <th>Non-veg</th>\n",
              "      <th>Veg</th>\n",
              "      <th>Veg dessert</th>\n",
              "      <th>recipe_id</th>\n",
              "    </tr>\n",
              "  </thead>\n",
              "  <tbody>\n",
              "    <tr>\n",
              "      <th>0</th>\n",
              "      <td>495</td>\n",
              "      <td>4</td>\n",
              "      <td>9</td>\n",
              "      <td>204.8</td>\n",
              "      <td>5.0</td>\n",
              "      <td>9.0</td>\n",
              "      <td>26.0</td>\n",
              "      <td>24.0</td>\n",
              "      <td>2.0</td>\n",
              "      <td>10.0</td>\n",
              "      <td>1</td>\n",
              "      <td>0</td>\n",
              "      <td>0</td>\n",
              "      <td>0</td>\n",
              "      <td>0</td>\n",
              "      <td>0</td>\n",
              "    </tr>\n",
              "    <tr>\n",
              "      <th>1</th>\n",
              "      <td>20</td>\n",
              "      <td>5</td>\n",
              "      <td>4</td>\n",
              "      <td>132.3</td>\n",
              "      <td>11.0</td>\n",
              "      <td>39.0</td>\n",
              "      <td>5.0</td>\n",
              "      <td>4.0</td>\n",
              "      <td>11.0</td>\n",
              "      <td>5.0</td>\n",
              "      <td>1</td>\n",
              "      <td>0</td>\n",
              "      <td>0</td>\n",
              "      <td>0</td>\n",
              "      <td>0</td>\n",
              "      <td>1</td>\n",
              "    </tr>\n",
              "    <tr>\n",
              "      <th>2</th>\n",
              "      <td>10</td>\n",
              "      <td>3</td>\n",
              "      <td>13</td>\n",
              "      <td>2786.2</td>\n",
              "      <td>342.0</td>\n",
              "      <td>134.0</td>\n",
              "      <td>290.0</td>\n",
              "      <td>161.0</td>\n",
              "      <td>301.0</td>\n",
              "      <td>42.0</td>\n",
              "      <td>0</td>\n",
              "      <td>0</td>\n",
              "      <td>1</td>\n",
              "      <td>0</td>\n",
              "      <td>0</td>\n",
              "      <td>2</td>\n",
              "    </tr>\n",
              "    <tr>\n",
              "      <th>3</th>\n",
              "      <td>40</td>\n",
              "      <td>10</td>\n",
              "      <td>12</td>\n",
              "      <td>316.0</td>\n",
              "      <td>4.0</td>\n",
              "      <td>40.0</td>\n",
              "      <td>37.0</td>\n",
              "      <td>78.0</td>\n",
              "      <td>4.0</td>\n",
              "      <td>10.0</td>\n",
              "      <td>0</td>\n",
              "      <td>0</td>\n",
              "      <td>1</td>\n",
              "      <td>0</td>\n",
              "      <td>0</td>\n",
              "      <td>3</td>\n",
              "    </tr>\n",
              "    <tr>\n",
              "      <th>4</th>\n",
              "      <td>150</td>\n",
              "      <td>14</td>\n",
              "      <td>16</td>\n",
              "      <td>606.5</td>\n",
              "      <td>65.0</td>\n",
              "      <td>12.0</td>\n",
              "      <td>34.0</td>\n",
              "      <td>65.0</td>\n",
              "      <td>83.0</td>\n",
              "      <td>7.0</td>\n",
              "      <td>0</td>\n",
              "      <td>0</td>\n",
              "      <td>0</td>\n",
              "      <td>1</td>\n",
              "      <td>0</td>\n",
              "      <td>4</td>\n",
              "    </tr>\n",
              "    <tr>\n",
              "      <th>...</th>\n",
              "      <td>...</td>\n",
              "      <td>...</td>\n",
              "      <td>...</td>\n",
              "      <td>...</td>\n",
              "      <td>...</td>\n",
              "      <td>...</td>\n",
              "      <td>...</td>\n",
              "      <td>...</td>\n",
              "      <td>...</td>\n",
              "      <td>...</td>\n",
              "      <td>...</td>\n",
              "      <td>...</td>\n",
              "      <td>...</td>\n",
              "      <td>...</td>\n",
              "      <td>...</td>\n",
              "      <td>...</td>\n",
              "    </tr>\n",
              "    <tr>\n",
              "      <th>181210</th>\n",
              "      <td>45</td>\n",
              "      <td>11</td>\n",
              "      <td>16</td>\n",
              "      <td>839.2</td>\n",
              "      <td>63.0</td>\n",
              "      <td>2.0</td>\n",
              "      <td>50.0</td>\n",
              "      <td>77.0</td>\n",
              "      <td>55.0</td>\n",
              "      <td>25.0</td>\n",
              "      <td>0</td>\n",
              "      <td>0</td>\n",
              "      <td>1</td>\n",
              "      <td>0</td>\n",
              "      <td>0</td>\n",
              "      <td>178260</td>\n",
              "    </tr>\n",
              "    <tr>\n",
              "      <th>181211</th>\n",
              "      <td>13</td>\n",
              "      <td>13</td>\n",
              "      <td>4</td>\n",
              "      <td>16.3</td>\n",
              "      <td>0.0</td>\n",
              "      <td>0.0</td>\n",
              "      <td>0.0</td>\n",
              "      <td>0.0</td>\n",
              "      <td>0.0</td>\n",
              "      <td>1.0</td>\n",
              "      <td>0</td>\n",
              "      <td>0</td>\n",
              "      <td>1</td>\n",
              "      <td>0</td>\n",
              "      <td>0</td>\n",
              "      <td>178261</td>\n",
              "    </tr>\n",
              "    <tr>\n",
              "      <th>181212</th>\n",
              "      <td>70</td>\n",
              "      <td>9</td>\n",
              "      <td>5</td>\n",
              "      <td>505.9</td>\n",
              "      <td>44.0</td>\n",
              "      <td>19.0</td>\n",
              "      <td>18.0</td>\n",
              "      <td>63.0</td>\n",
              "      <td>39.0</td>\n",
              "      <td>8.0</td>\n",
              "      <td>0</td>\n",
              "      <td>0</td>\n",
              "      <td>0</td>\n",
              "      <td>1</td>\n",
              "      <td>0</td>\n",
              "      <td>178262</td>\n",
              "    </tr>\n",
              "    <tr>\n",
              "      <th>181213</th>\n",
              "      <td>375</td>\n",
              "      <td>23</td>\n",
              "      <td>10</td>\n",
              "      <td>518.1</td>\n",
              "      <td>29.0</td>\n",
              "      <td>138.0</td>\n",
              "      <td>26.0</td>\n",
              "      <td>34.0</td>\n",
              "      <td>35.0</td>\n",
              "      <td>24.0</td>\n",
              "      <td>0</td>\n",
              "      <td>0</td>\n",
              "      <td>1</td>\n",
              "      <td>0</td>\n",
              "      <td>0</td>\n",
              "      <td>178263</td>\n",
              "    </tr>\n",
              "    <tr>\n",
              "      <th>181214</th>\n",
              "      <td>440</td>\n",
              "      <td>7</td>\n",
              "      <td>9</td>\n",
              "      <td>566.2</td>\n",
              "      <td>59.0</td>\n",
              "      <td>12.0</td>\n",
              "      <td>15.0</td>\n",
              "      <td>86.0</td>\n",
              "      <td>55.0</td>\n",
              "      <td>3.0</td>\n",
              "      <td>0</td>\n",
              "      <td>0</td>\n",
              "      <td>0</td>\n",
              "      <td>1</td>\n",
              "      <td>0</td>\n",
              "      <td>178264</td>\n",
              "    </tr>\n",
              "  </tbody>\n",
              "</table>\n",
              "<p>181215 rows × 16 columns</p>\n",
              "</div>"
            ],
            "text/plain": [
              "        minutes  n_steps  n_ingredient  ...  Veg  Veg dessert  recipe_id\n",
              "0           495        4             9  ...    0            0          0\n",
              "1            20        5             4  ...    0            0          1\n",
              "2            10        3            13  ...    0            0          2\n",
              "3            40       10            12  ...    0            0          3\n",
              "4           150       14            16  ...    1            0          4\n",
              "...         ...      ...           ...  ...  ...          ...        ...\n",
              "181210       45       11            16  ...    0            0     178260\n",
              "181211       13       13             4  ...    0            0     178261\n",
              "181212       70        9             5  ...    1            0     178262\n",
              "181213      375       23            10  ...    0            0     178263\n",
              "181214      440        7             9  ...    1            0     178264\n",
              "\n",
              "[181215 rows x 16 columns]"
            ]
          },
          "metadata": {
            "tags": []
          },
          "execution_count": 52
        }
      ]
    },
    {
      "cell_type": "markdown",
      "metadata": {
        "id": "IvD18WqcH60V"
      },
      "source": [
        "#### Define Food Type base on ingredients"
      ]
    },
    {
      "cell_type": "code",
      "metadata": {
        "id": "uFdr_zpc_ELt"
      },
      "source": [
        "df_PP_recipe = pd.concat([df_PP_recipe,df_nutritions['calories']],axis=1)\n",
        "df_PP_recipe['food types'] = np.nan\n",
        "df_PP_recipe['food types'] = df_PP_recipe['food types'].astype('str')\n",
        "\n",
        "for i in df_PP_recipe['ingredients'].index:\n",
        "    if('eggs' not in df_PP_recipe['ingredients'][i]):\n",
        "         if('ice-cream' in df_PP_recipe['ingredients'][i] or 'chocolate' in df_PP_recipe['ingredients'][i] or 'cookies' in df_PP_recipe['ingredients'][i]):\n",
        "                df_PP_recipe['food types'][i]='Veg dessert'\n",
        "    elif('eggs' in df_PP_recipe['ingredients'][i]):\n",
        "        if('ice-cream' in df_PP_recipe['ingredients'][i] or 'chocolate' in df_PP_recipe['ingredients'][i] or 'cookies' in df_PP_recipe['ingredients'][i]):\n",
        "                df_PP_recipe['food types'][i]='Non-Veg dessert'\n",
        "\n",
        "for i in df_PP_recipe.index:\n",
        "    if(df_PP_recipe['food types'][i]!='Veg dessert' and df_PP_recipe['food types'][i]!='Non-Veg dessert' and 20<df_PP_recipe['calories'][i]<300):\n",
        "        df_PP_recipe['food types'][i]='Healthy'\n",
        "\n",
        "for i in df_PP_recipe.index:\n",
        "    if(df_PP_recipe['food types'][i]!='Veg dessert' and df_PP_recipe['food types'][i]!='Non-Veg dessert' and df_PP_recipe['food types'][i]!='Healthy'):\n",
        "        if('chicken' in df_PP_recipe['ingredients'][i] or 'eggs' in df_PP_recipe['ingredients'][i] or'ham' in df_PP_recipe['ingredients'][i] or 'pepperoni' in df_PP_recipe['ingredients'][i] ):\n",
        "            df_PP_recipe['food types'][i]='Non-veg'\n",
        "for i in df_PP_recipe.index:\n",
        "    if(df_PP_recipe['food types'][i]!='Veg dessert' and df_PP_recipe['food types'][i]!='Non-Veg dessert' and df_PP_recipe['food types'][i]!='Healthy' and df_PP_recipe['food types'][i]!='Non-veg'):\n",
        "        df_PP_recipe['food types'][i]='Veg'"
      ],
      "execution_count": null,
      "outputs": []
    },
    {
      "cell_type": "code",
      "metadata": {
        "colab": {
          "base_uri": "https://localhost:8080/"
        },
        "id": "KOhCvUtgHHrx",
        "outputId": "07dc5cdc-c5c6-4ab2-8d8f-c8e100fad8b5"
      },
      "source": [
        "df_PP_recipe['food types'].value_counts()"
      ],
      "execution_count": null,
      "outputs": [
        {
          "output_type": "execute_result",
          "data": {
            "text/plain": [
              "Healthy            79237\n",
              "Veg                58766\n",
              "Non-veg            29498\n",
              "Veg dessert         7065\n",
              "Non-Veg dessert     3699\n",
              "Name: food types, dtype: int64"
            ]
          },
          "metadata": {
            "tags": []
          },
          "execution_count": 34
        }
      ]
    },
    {
      "cell_type": "code",
      "metadata": {
        "colab": {
          "base_uri": "https://localhost:8080/"
        },
        "id": "W2xvIKu2HJR4",
        "outputId": "aae3bd9f-bfd8-42c8-abc2-4a28daf8cb90"
      },
      "source": [
        "df_PP_recipe['food types'].isnull().sum()"
      ],
      "execution_count": null,
      "outputs": [
        {
          "output_type": "execute_result",
          "data": {
            "text/plain": [
              "0"
            ]
          },
          "metadata": {
            "tags": []
          },
          "execution_count": 35
        }
      ]
    },
    {
      "cell_type": "code",
      "metadata": {
        "id": "AURoZJWNHT9v"
      },
      "source": [
        "types = pd.get_dummies(df_PP_recipe['food types'])"
      ],
      "execution_count": null,
      "outputs": []
    },
    {
      "cell_type": "code",
      "metadata": {
        "colab": {
          "base_uri": "https://localhost:8080/",
          "height": 215
        },
        "id": "eoUfATjOo92v",
        "outputId": "e4aac742-fe05-4c2e-c0c1-4137f8fc1a4e"
      },
      "source": [
        "df_embed = pd.concat([df_embed,types],axis=1)\n",
        "df_embed.drop(columns=(['recipe_id']),axis=1,inplace=True)\n",
        "df_embed.head()"
      ],
      "execution_count": null,
      "outputs": [
        {
          "output_type": "execute_result",
          "data": {
            "text/html": [
              "<div>\n",
              "<style scoped>\n",
              "    .dataframe tbody tr th:only-of-type {\n",
              "        vertical-align: middle;\n",
              "    }\n",
              "\n",
              "    .dataframe tbody tr th {\n",
              "        vertical-align: top;\n",
              "    }\n",
              "\n",
              "    .dataframe thead th {\n",
              "        text-align: right;\n",
              "    }\n",
              "</style>\n",
              "<table border=\"1\" class=\"dataframe\">\n",
              "  <thead>\n",
              "    <tr style=\"text-align: right;\">\n",
              "      <th></th>\n",
              "      <th>minutes</th>\n",
              "      <th>n_steps</th>\n",
              "      <th>n_ingredient</th>\n",
              "      <th>calories</th>\n",
              "      <th>total fat (PDV)</th>\n",
              "      <th>sugar (PDV)</th>\n",
              "      <th>sodium (PDV)</th>\n",
              "      <th>protein (PDV)</th>\n",
              "      <th>saturated fat (PDV)</th>\n",
              "      <th>carbohydrates (PDV)</th>\n",
              "      <th>Healthy</th>\n",
              "      <th>Non-Veg dessert</th>\n",
              "      <th>Non-veg</th>\n",
              "      <th>Veg</th>\n",
              "      <th>Veg dessert</th>\n",
              "    </tr>\n",
              "  </thead>\n",
              "  <tbody>\n",
              "    <tr>\n",
              "      <th>0</th>\n",
              "      <td>495</td>\n",
              "      <td>4</td>\n",
              "      <td>9</td>\n",
              "      <td>204.8</td>\n",
              "      <td>5.0</td>\n",
              "      <td>9.0</td>\n",
              "      <td>26.0</td>\n",
              "      <td>24.0</td>\n",
              "      <td>2.0</td>\n",
              "      <td>10.0</td>\n",
              "      <td>1</td>\n",
              "      <td>0</td>\n",
              "      <td>0</td>\n",
              "      <td>0</td>\n",
              "      <td>0</td>\n",
              "    </tr>\n",
              "    <tr>\n",
              "      <th>1</th>\n",
              "      <td>20</td>\n",
              "      <td>5</td>\n",
              "      <td>4</td>\n",
              "      <td>132.3</td>\n",
              "      <td>11.0</td>\n",
              "      <td>39.0</td>\n",
              "      <td>5.0</td>\n",
              "      <td>4.0</td>\n",
              "      <td>11.0</td>\n",
              "      <td>5.0</td>\n",
              "      <td>1</td>\n",
              "      <td>0</td>\n",
              "      <td>0</td>\n",
              "      <td>0</td>\n",
              "      <td>0</td>\n",
              "    </tr>\n",
              "    <tr>\n",
              "      <th>2</th>\n",
              "      <td>10</td>\n",
              "      <td>3</td>\n",
              "      <td>13</td>\n",
              "      <td>2786.2</td>\n",
              "      <td>342.0</td>\n",
              "      <td>134.0</td>\n",
              "      <td>290.0</td>\n",
              "      <td>161.0</td>\n",
              "      <td>301.0</td>\n",
              "      <td>42.0</td>\n",
              "      <td>0</td>\n",
              "      <td>0</td>\n",
              "      <td>1</td>\n",
              "      <td>0</td>\n",
              "      <td>0</td>\n",
              "    </tr>\n",
              "    <tr>\n",
              "      <th>3</th>\n",
              "      <td>40</td>\n",
              "      <td>10</td>\n",
              "      <td>12</td>\n",
              "      <td>316.0</td>\n",
              "      <td>4.0</td>\n",
              "      <td>40.0</td>\n",
              "      <td>37.0</td>\n",
              "      <td>78.0</td>\n",
              "      <td>4.0</td>\n",
              "      <td>10.0</td>\n",
              "      <td>0</td>\n",
              "      <td>0</td>\n",
              "      <td>1</td>\n",
              "      <td>0</td>\n",
              "      <td>0</td>\n",
              "    </tr>\n",
              "    <tr>\n",
              "      <th>4</th>\n",
              "      <td>150</td>\n",
              "      <td>14</td>\n",
              "      <td>16</td>\n",
              "      <td>606.5</td>\n",
              "      <td>65.0</td>\n",
              "      <td>12.0</td>\n",
              "      <td>34.0</td>\n",
              "      <td>65.0</td>\n",
              "      <td>83.0</td>\n",
              "      <td>7.0</td>\n",
              "      <td>0</td>\n",
              "      <td>0</td>\n",
              "      <td>0</td>\n",
              "      <td>1</td>\n",
              "      <td>0</td>\n",
              "    </tr>\n",
              "  </tbody>\n",
              "</table>\n",
              "</div>"
            ],
            "text/plain": [
              "   minutes  n_steps  n_ingredient  ...  Non-veg  Veg  Veg dessert\n",
              "0      495        4             9  ...        0    0            0\n",
              "1       20        5             4  ...        0    0            0\n",
              "2       10        3            13  ...        1    0            0\n",
              "3       40       10            12  ...        1    0            0\n",
              "4      150       14            16  ...        0    1            0\n",
              "\n",
              "[5 rows x 15 columns]"
            ]
          },
          "metadata": {
            "tags": []
          },
          "execution_count": 37
        }
      ]
    },
    {
      "cell_type": "code",
      "metadata": {
        "colab": {
          "base_uri": "https://localhost:8080/"
        },
        "id": "aebWXkPq9NL6",
        "outputId": "8e1f1e24-d17b-4700-f7c6-fda22f0dc27a"
      },
      "source": [
        "item_features = csr_matrix(df_embed.values)\n",
        "item_features"
      ],
      "execution_count": null,
      "outputs": [
        {
          "output_type": "execute_result",
          "data": {
            "text/plain": [
              "<178265x15 sparse matrix of type '<class 'numpy.float64'>'\n",
              "\twith 1900823 stored elements in Compressed Sparse Row format>"
            ]
          },
          "metadata": {
            "tags": []
          },
          "execution_count": 38
        }
      ]
    },
    {
      "cell_type": "markdown",
      "metadata": {
        "id": "QLa1XMshDRzK"
      },
      "source": [
        "### Users Features"
      ]
    },
    {
      "cell_type": "code",
      "metadata": {
        "colab": {
          "base_uri": "https://localhost:8080/",
          "height": 198
        },
        "id": "R4hX64mxD9wA",
        "outputId": "5ed8cada-286d-4293-9406-406502aeeb8d"
      },
      "source": [
        "df_users = pd.read_csv('/content/PP_users.csv')\n",
        "df_users.head()"
      ],
      "execution_count": null,
      "outputs": [
        {
          "output_type": "execute_result",
          "data": {
            "text/html": [
              "<div>\n",
              "<style scoped>\n",
              "    .dataframe tbody tr th:only-of-type {\n",
              "        vertical-align: middle;\n",
              "    }\n",
              "\n",
              "    .dataframe tbody tr th {\n",
              "        vertical-align: top;\n",
              "    }\n",
              "\n",
              "    .dataframe thead th {\n",
              "        text-align: right;\n",
              "    }\n",
              "</style>\n",
              "<table border=\"1\" class=\"dataframe\">\n",
              "  <thead>\n",
              "    <tr style=\"text-align: right;\">\n",
              "      <th></th>\n",
              "      <th>u</th>\n",
              "      <th>techniques</th>\n",
              "      <th>items</th>\n",
              "      <th>n_items</th>\n",
              "      <th>ratings</th>\n",
              "      <th>n_ratings</th>\n",
              "    </tr>\n",
              "  </thead>\n",
              "  <tbody>\n",
              "    <tr>\n",
              "      <th>0</th>\n",
              "      <td>0</td>\n",
              "      <td>[8, 0, 0, 5, 6, 0, 0, 1, 0, 9, 1, 0, 0, 0, 1, ...</td>\n",
              "      <td>[1118, 27680, 32541, 137353, 16428, 28815, 658...</td>\n",
              "      <td>31</td>\n",
              "      <td>[5.0, 5.0, 5.0, 5.0, 5.0, 5.0, 5.0, 4.0, 4.0, ...</td>\n",
              "      <td>31</td>\n",
              "    </tr>\n",
              "    <tr>\n",
              "      <th>1</th>\n",
              "      <td>1</td>\n",
              "      <td>[11, 0, 0, 2, 12, 0, 0, 0, 0, 14, 5, 0, 0, 0, ...</td>\n",
              "      <td>[122140, 77036, 156817, 76957, 68818, 155600, ...</td>\n",
              "      <td>39</td>\n",
              "      <td>[5.0, 5.0, 5.0, 5.0, 5.0, 5.0, 5.0, 5.0, 5.0, ...</td>\n",
              "      <td>39</td>\n",
              "    </tr>\n",
              "    <tr>\n",
              "      <th>2</th>\n",
              "      <td>2</td>\n",
              "      <td>[13, 0, 0, 7, 5, 0, 1, 2, 1, 11, 0, 1, 0, 0, 1...</td>\n",
              "      <td>[168054, 87218, 35731, 1, 20475, 9039, 124834,...</td>\n",
              "      <td>27</td>\n",
              "      <td>[3.0, 4.0, 4.0, 4.0, 4.0, 4.0, 4.0, 4.0, 5.0, ...</td>\n",
              "      <td>27</td>\n",
              "    </tr>\n",
              "    <tr>\n",
              "      <th>3</th>\n",
              "      <td>3</td>\n",
              "      <td>[498, 13, 4, 218, 376, 3, 2, 33, 16, 591, 10, ...</td>\n",
              "      <td>[163193, 156352, 102888, 19914, 169438, 55772,...</td>\n",
              "      <td>1513</td>\n",
              "      <td>[5.0, 5.0, 5.0, 5.0, 4.0, 4.0, 5.0, 5.0, 5.0, ...</td>\n",
              "      <td>1513</td>\n",
              "    </tr>\n",
              "    <tr>\n",
              "      <th>4</th>\n",
              "      <td>4</td>\n",
              "      <td>[161, 1, 1, 86, 93, 0, 0, 11, 2, 141, 0, 16, 0...</td>\n",
              "      <td>[72857, 38652, 160427, 55772, 119999, 141777, ...</td>\n",
              "      <td>376</td>\n",
              "      <td>[5.0, 5.0, 5.0, 5.0, 4.0, 4.0, 5.0, 4.0, 5.0, ...</td>\n",
              "      <td>376</td>\n",
              "    </tr>\n",
              "  </tbody>\n",
              "</table>\n",
              "</div>"
            ],
            "text/plain": [
              "   u  ... n_ratings\n",
              "0  0  ...        31\n",
              "1  1  ...        39\n",
              "2  2  ...        27\n",
              "3  3  ...      1513\n",
              "4  4  ...       376\n",
              "\n",
              "[5 rows x 6 columns]"
            ]
          },
          "metadata": {
            "tags": []
          },
          "execution_count": 39
        }
      ]
    },
    {
      "cell_type": "code",
      "metadata": {
        "id": "55mItJ9VDZ2S"
      },
      "source": [
        "user_u = df_users.u.values\n",
        "user_features_dict = {'u':user_u}\n",
        "labels = ['Healthy','Veg dessert','Non-Veg dessert','Veg','Non-veg']\n",
        "for i in labels: \n",
        "  user_features_dict[i] = []"
      ],
      "execution_count": null,
      "outputs": []
    },
    {
      "cell_type": "code",
      "metadata": {
        "id": "8Fgu7k7ZKDCV"
      },
      "source": [
        "users_embed =[]\n",
        "for u in user_u: \n",
        "  df_u = df_users.loc[df_users['u']==u]\n",
        "  str_item_list = df_u['items'].values\n",
        "  str_rating_list = df_u['ratings'].values\n",
        "  item_list = convert_string_to_float(str_item_list[0])\n",
        "  rating_list = convert_string_to_float(str_rating_list[0])\n",
        "  type_item_list = []\n",
        "  u_embed = []\n",
        "  for i in item_list: \n",
        "      df = df_PP_recipe.loc[df_PP_recipe['i']==i]\n",
        "      type_item_list.append(df['food types'].values[0])\n",
        "  sum = np.sum(rating_list)\n",
        "\n",
        "  for j in labels:\n",
        "      sum_type_rating = 0 \n",
        "      embed_value = 0\n",
        "      if j not in type_item_list:\n",
        "        u_embed.append(0)\n",
        "      else:\n",
        "        for index in range(len(type_item_list)):\n",
        "          if j == type_item_list[index]:    \n",
        "              sum_type_rating += rating_list[index]\n",
        "        if sum ==0:\n",
        "          embed_value -= 0.1\n",
        "        else:\n",
        "          embed_value = sum_type_rating/sum\n",
        "        u_embed.append(embed_value)\n",
        "  if np.sum(u_embed) != 1:\n",
        "      u_embed = np.array(u_embed)\n",
        "      fill_value =  - np.sum(u_embed)\n",
        "      zeros = np.where(u_embed==0)[0]\n",
        "      fill_value = fill_value / len(zeros)\n",
        "      u_embed = np.where(u_embed==0,fill_value,u_embed)\n",
        "  users_embed.append(u_embed)"
      ],
      "execution_count": null,
      "outputs": []
    },
    {
      "cell_type": "code",
      "metadata": {
        "id": "hxCwnWEqaMz_"
      },
      "source": [
        "healthy = []\n",
        "veg_dsrt = []\n",
        "nonveg_dsrt = []\n",
        "veg = []\n",
        "nonveg  = []\n",
        "for user in users_embed:\n",
        "    healthy.append(user[0])\n",
        "    veg_dsrt.append(user[1])\n",
        "    nonveg_dsrt.append(user[2])\n",
        "    veg.append(user[3])\n",
        "    nonveg.append(user[4])\n",
        "user_features_dict['Healthy'] = healthy\n",
        "user_features_dict['Veg dessert'] = veg_dsrt\n",
        "user_features_dict['Non-Veg dessert'] = nonveg_dsrt\n",
        "user_features_dict['Veg'] = veg\n",
        "user_features_dict['Non-veg'] = nonveg"
      ],
      "execution_count": null,
      "outputs": []
    },
    {
      "cell_type": "code",
      "metadata": {
        "colab": {
          "base_uri": "https://localhost:8080/",
          "height": 407
        },
        "id": "3eSCmGC7NgG7",
        "outputId": "c9ceacd7-18ba-4746-c99f-ff82eac28808"
      },
      "source": [
        "df_u_embed = pd.DataFrame(data= user_features_dict)\n",
        "df_u_embed.drop(columns=(['u']),axis=1,inplace=True)\n",
        "df_u_embed"
      ],
      "execution_count": null,
      "outputs": [
        {
          "output_type": "execute_result",
          "data": {
            "text/html": [
              "<div>\n",
              "<style scoped>\n",
              "    .dataframe tbody tr th:only-of-type {\n",
              "        vertical-align: middle;\n",
              "    }\n",
              "\n",
              "    .dataframe tbody tr th {\n",
              "        vertical-align: top;\n",
              "    }\n",
              "\n",
              "    .dataframe thead th {\n",
              "        text-align: right;\n",
              "    }\n",
              "</style>\n",
              "<table border=\"1\" class=\"dataframe\">\n",
              "  <thead>\n",
              "    <tr style=\"text-align: right;\">\n",
              "      <th></th>\n",
              "      <th>Healthy</th>\n",
              "      <th>Veg dessert</th>\n",
              "      <th>Non-Veg dessert</th>\n",
              "      <th>Veg</th>\n",
              "      <th>Non-veg</th>\n",
              "    </tr>\n",
              "  </thead>\n",
              "  <tbody>\n",
              "    <tr>\n",
              "      <th>0</th>\n",
              "      <td>0.322148</td>\n",
              "      <td>0.000000</td>\n",
              "      <td>0.033557</td>\n",
              "      <td>0.389262</td>\n",
              "      <td>0.255034</td>\n",
              "    </tr>\n",
              "    <tr>\n",
              "      <th>1</th>\n",
              "      <td>0.378238</td>\n",
              "      <td>0.000000</td>\n",
              "      <td>0.000000</td>\n",
              "      <td>0.362694</td>\n",
              "      <td>0.259067</td>\n",
              "    </tr>\n",
              "    <tr>\n",
              "      <th>2</th>\n",
              "      <td>0.596491</td>\n",
              "      <td>0.000000</td>\n",
              "      <td>0.000000</td>\n",
              "      <td>0.192982</td>\n",
              "      <td>0.210526</td>\n",
              "    </tr>\n",
              "    <tr>\n",
              "      <th>3</th>\n",
              "      <td>0.481426</td>\n",
              "      <td>0.018643</td>\n",
              "      <td>0.015490</td>\n",
              "      <td>0.310350</td>\n",
              "      <td>0.174092</td>\n",
              "    </tr>\n",
              "    <tr>\n",
              "      <th>4</th>\n",
              "      <td>0.402424</td>\n",
              "      <td>0.034545</td>\n",
              "      <td>0.031515</td>\n",
              "      <td>0.330303</td>\n",
              "      <td>0.201212</td>\n",
              "    </tr>\n",
              "    <tr>\n",
              "      <th>...</th>\n",
              "      <td>...</td>\n",
              "      <td>...</td>\n",
              "      <td>...</td>\n",
              "      <td>...</td>\n",
              "      <td>...</td>\n",
              "    </tr>\n",
              "    <tr>\n",
              "      <th>25071</th>\n",
              "      <td>1.000000</td>\n",
              "      <td>0.000000</td>\n",
              "      <td>0.000000</td>\n",
              "      <td>0.000000</td>\n",
              "      <td>0.000000</td>\n",
              "    </tr>\n",
              "    <tr>\n",
              "      <th>25072</th>\n",
              "      <td>0.000000</td>\n",
              "      <td>0.000000</td>\n",
              "      <td>0.000000</td>\n",
              "      <td>0.500000</td>\n",
              "      <td>0.500000</td>\n",
              "    </tr>\n",
              "    <tr>\n",
              "      <th>25073</th>\n",
              "      <td>0.000000</td>\n",
              "      <td>0.000000</td>\n",
              "      <td>0.000000</td>\n",
              "      <td>1.000000</td>\n",
              "      <td>0.000000</td>\n",
              "    </tr>\n",
              "    <tr>\n",
              "      <th>25074</th>\n",
              "      <td>0.000000</td>\n",
              "      <td>0.000000</td>\n",
              "      <td>0.000000</td>\n",
              "      <td>0.500000</td>\n",
              "      <td>0.500000</td>\n",
              "    </tr>\n",
              "    <tr>\n",
              "      <th>25075</th>\n",
              "      <td>0.500000</td>\n",
              "      <td>0.000000</td>\n",
              "      <td>0.000000</td>\n",
              "      <td>0.500000</td>\n",
              "      <td>0.000000</td>\n",
              "    </tr>\n",
              "  </tbody>\n",
              "</table>\n",
              "<p>25076 rows × 5 columns</p>\n",
              "</div>"
            ],
            "text/plain": [
              "        Healthy  Veg dessert  Non-Veg dessert       Veg   Non-veg\n",
              "0      0.322148     0.000000         0.033557  0.389262  0.255034\n",
              "1      0.378238     0.000000         0.000000  0.362694  0.259067\n",
              "2      0.596491     0.000000         0.000000  0.192982  0.210526\n",
              "3      0.481426     0.018643         0.015490  0.310350  0.174092\n",
              "4      0.402424     0.034545         0.031515  0.330303  0.201212\n",
              "...         ...          ...              ...       ...       ...\n",
              "25071  1.000000     0.000000         0.000000  0.000000  0.000000\n",
              "25072  0.000000     0.000000         0.000000  0.500000  0.500000\n",
              "25073  0.000000     0.000000         0.000000  1.000000  0.000000\n",
              "25074  0.000000     0.000000         0.000000  0.500000  0.500000\n",
              "25075  0.500000     0.000000         0.000000  0.500000  0.000000\n",
              "\n",
              "[25076 rows x 5 columns]"
            ]
          },
          "metadata": {
            "tags": []
          },
          "execution_count": 43
        }
      ]
    },
    {
      "cell_type": "code",
      "metadata": {
        "colab": {
          "base_uri": "https://localhost:8080/"
        },
        "id": "J8DdhLiOceVN",
        "outputId": "e0da0eb7-9c43-4cd3-b7af-f1a2f166f164"
      },
      "source": [
        "user_features = csr_matrix(df_u_embed)\n",
        "user_features"
      ],
      "execution_count": null,
      "outputs": [
        {
          "output_type": "execute_result",
          "data": {
            "text/plain": [
              "<25076x5 sparse matrix of type '<class 'numpy.float64'>'\n",
              "\twith 74645 stored elements in Compressed Sparse Row format>"
            ]
          },
          "metadata": {
            "tags": []
          },
          "execution_count": 44
        }
      ]
    },
    {
      "cell_type": "markdown",
      "metadata": {
        "id": "rbuYsLu7azz5"
      },
      "source": [
        "# Recommender System \n"
      ]
    },
    {
      "cell_type": "markdown",
      "metadata": {
        "id": "QEdFZ_ZeDJnf"
      },
      "source": [
        "### LightFM Implementation\n"
      ]
    },
    {
      "cell_type": "code",
      "metadata": {
        "id": "LNvolt8P80Kf"
      },
      "source": [
        "!pip install -qq lightfm"
      ],
      "execution_count": null,
      "outputs": []
    },
    {
      "cell_type": "code",
      "metadata": {
        "id": "oX3VHGjfjFHe"
      },
      "source": [
        "from lightfm import LightFM\n",
        "from lightfm.cross_validation import random_train_test_split\n",
        "from lightfm.evaluation import *"
      ],
      "execution_count": null,
      "outputs": []
    },
    {
      "cell_type": "code",
      "metadata": {
        "id": "0QMxHn1OXvQc"
      },
      "source": [
        "# Split interactions to train and test sets \n",
        "train, test = random_train_test_split(interactions,test_percentage=0.1,random_state=42)"
      ],
      "execution_count": null,
      "outputs": []
    },
    {
      "cell_type": "markdown",
      "metadata": {
        "id": "y3w_Fyb8Yrtr"
      },
      "source": [
        "##### Define LightFM model"
      ]
    },
    {
      "cell_type": "code",
      "metadata": {
        "id": "5TEg5c74V_9T",
        "colab": {
          "base_uri": "https://localhost:8080/"
        },
        "outputId": "42b004ae-7351-4773-f118-30d65a12cc13"
      },
      "source": [
        "hybrid = LightFM(no_components=32,random_state=42,loss='warp',item_alpha=1e-06,user_alpha=1e-06)\n",
        "hybrid.fit(train,user_features,item_features,epochs=10,num_threads=4,verbose=True)"
      ],
      "execution_count": null,
      "outputs": [
        {
          "output_type": "stream",
          "text": [
            "Epoch: 100%|██████████| 10/10 [00:41<00:00,  4.11s/it]\n"
          ],
          "name": "stderr"
        },
        {
          "output_type": "execute_result",
          "data": {
            "text/plain": [
              "<lightfm.lightfm.LightFM at 0x7fd24fe93dd0>"
            ]
          },
          "metadata": {
            "tags": []
          },
          "execution_count": 48
        }
      ]
    },
    {
      "cell_type": "markdown",
      "metadata": {
        "id": "LKaknyRhetHO"
      },
      "source": [
        "##### Evaluation: AUC score\n"
      ]
    },
    {
      "cell_type": "code",
      "metadata": {
        "id": "acfkIGNjmUOF"
      },
      "source": [
        "hybrid_train_auc = auc_score(hybrid,train,item_features=item_features,user_features=user_features,num_threads=4)\n",
        "hybrid_test_auc = auc_score(hybrid,test,train_interactions=train,item_features=item_features,user_features=user_features,num_threads=4)"
      ],
      "execution_count": null,
      "outputs": []
    },
    {
      "cell_type": "code",
      "metadata": {
        "id": "cioStdyfhmA1",
        "colab": {
          "base_uri": "https://localhost:8080/"
        },
        "outputId": "cb50841f-1776-46c8-ceea-6b904fdf6e96"
      },
      "source": [
        "print('Hybrid model train AUC score: %.5f' %hybrid_train_auc.mean())\n",
        "print('Hybrid model test AUC score: %.5f' %hybrid_test_auc.mean())"
      ],
      "execution_count": null,
      "outputs": [
        {
          "output_type": "stream",
          "text": [
            "Hybrid model train AUC score: 0.53597\n",
            "Hybrid model test AUC score: 0.53274\n"
          ],
          "name": "stdout"
        }
      ]
    },
    {
      "cell_type": "markdown",
      "metadata": {
        "id": "tg4ac5NwnGjL"
      },
      "source": [
        "### Recommend Definitions\n",
        "[Link to code](https://github.com/aayushmnit/cookbook/blob/master/recsys.py)"
      ]
    },
    {
      "cell_type": "code",
      "metadata": {
        "id": "c571D-bT7Ppz"
      },
      "source": [
        "def sample_recommendation_user(model, interactions, user_id, \n",
        "                               item_dict,threshold = 3,nrec_items = 0, show = True):\n",
        "    n_users, n_items = interactions.shape\n",
        "    user_x = user_dict[user_id]\n",
        "    scores = pd.Series(model.predict(user_ids = user_x,item_ids=np.arange(n_users),item_features=item_features,user_features=user_features))\n",
        "    scores = list(pd.Series(scores.sort_values(ascending=False).index))\n",
        "    user_rated_items = interactions.getrow(user_x).nonzero()\n",
        "    thr = np.where(interactions.getrow(user_x)[user_rated_items] > threshold)[1]\n",
        "    user_rated_items = user_rated_items[0][thr]\n",
        "    known_items = list(pd.Series([user_rated_items]).sort_values(ascending=False))\n",
        "    \n",
        "    scores = [x for x in scores if x not in known_items[0]]\n",
        "    return_score_list = scores[0:nrec_items]\n",
        "    known_names = []\n",
        "    for i in known_items[0]:\n",
        "      known_names.append(item_dict[i])\n",
        "    scores = list(pd.Series(return_score_list).apply(lambda x: item_dict[x]))\n",
        "    if show == True:\n",
        "        print(\"Known Likes:\")\n",
        "        counter = 1\n",
        "        for i in known_names:\n",
        "            print(str(counter) + '- ' + i)\n",
        "            counter+= 1\n",
        "\n",
        "        print(\"\\n Recommended Items:\")\n",
        "        counter = 1\n",
        "        for i in scores:\n",
        "            print(str(counter) + '- ' + i)\n",
        "            counter+=1\n",
        "    return return_score_list\n",
        "\n",
        "\n",
        "def recommendation(model, interactions, user_id, item_dict,threshold = 0,nrec_items = 0):\n",
        "  rec_items_ids = sample_recommendation_user(model, interactions, user_id,item_dict,threshold,nrec_items, show = False)\n",
        "  rec_items = []\n",
        "  output = ''\n",
        "  for i in rec_items_ids:\n",
        "    rec_items.append(item_dict[i])\n",
        "  output += 'Recipe you might like: \\n'\n",
        "  counter = 1\n",
        "  for i in rec_items:\n",
        "    output += str(counter) + '- ' + i + '\\n'\n",
        "    counter+=1\n",
        "  return output\n",
        "\n"
      ],
      "execution_count": 20,
      "outputs": []
    },
    {
      "cell_type": "code",
      "metadata": {
        "id": "5QGUpEaGEXfJ",
        "colab": {
          "base_uri": "https://localhost:8080/"
        },
        "outputId": "5ec3242d-3fa5-447b-d25b-b23afe6471b2"
      },
      "source": [
        "pip install -qq gradio"
      ],
      "execution_count": 22,
      "outputs": [
        {
          "output_type": "stream",
          "text": [
            "\u001b[K     |████████████████████████████████| 1.1MB 4.0MB/s \n",
            "\u001b[K     |████████████████████████████████| 1.9MB 39.8MB/s \n",
            "\u001b[K     |████████████████████████████████| 215kB 45.3MB/s \n",
            "\u001b[K     |████████████████████████████████| 962kB 42.1MB/s \n",
            "\u001b[K     |████████████████████████████████| 3.2MB 41.5MB/s \n",
            "\u001b[K     |████████████████████████████████| 71kB 9.6MB/s \n",
            "\u001b[?25h  Building wheel for flask-cachebuster (setup.py) ... \u001b[?25l\u001b[?25hdone\n",
            "  Building wheel for ffmpy (setup.py) ... \u001b[?25l\u001b[?25hdone\n"
          ],
          "name": "stdout"
        }
      ]
    },
    {
      "cell_type": "code",
      "metadata": {
        "id": "NRfojUW2EVTg"
      },
      "source": [
        "name_dict = {}\n",
        "import gradio as gr\n",
        "import random\n",
        "\n",
        "def username(name,name_dict):\n",
        "  from random import randint\n",
        "  new_i = len(user_dict)\n",
        "  new_id = randint(0,1e7)\n",
        "  while new_id in user_dict:\n",
        "    new_id = randint(0,1e7)\n",
        "  user_dict[new_id]=new_i\n",
        "  name_dict[name] = new_id\n",
        "\n",
        "  return name, new_id\n",
        "def generate_id(name):\n",
        "    new, user_id = username(name,name_dict)\n",
        "    out = 'Welcome to FuKaKukku!\\n'\n",
        "    out += '------------------------------\\n'\n",
        "    out += 'Your new username: {}. Id: {} \\n'.format(name,user_id)\n",
        "    out += '------------------------------\\n'\n",
        "    out += 'Please sign in to join FukkaKukku!'\n",
        "    return out\n",
        "def recommend(are_you_new,name,veg,healthy,dsrt):\n",
        "  if are_you_new: \n",
        "    if name in name_dict:\n",
        "      return 'Username already existed!'\n",
        "    else:\n",
        "      out = generate_id(name)\n",
        "      global interactions\n",
        "      global user_features\n",
        "      new_interact = csr_matrix(np.zeros((1,interactions.shape[1])))\n",
        "      interactions = csr_matrix(vstack([new_interact,interactions]))\n",
        "      new_u_features = np.zeros((user_features.shape[1]))\n",
        "      if veg == 'Yes':\n",
        "        new_u_features[3] += 0.2\n",
        "        new_u_features[4] -= 0.2\n",
        "        new_u_features[2] -= 0.2\n",
        "        new_u_features[1] += 0.2\n",
        "      else:\n",
        "        new_u_features[3] += 0.2\n",
        "        new_u_features[4] += 0.2\n",
        "        new_u_features[2] += 0.2\n",
        "        new_u_features[1] += 0.2\n",
        "      if healthy == 'Yes':\n",
        "        new_u_features[0] += 0.2\n",
        "      else:\n",
        "        new_u_features[0] -= 0.2\n",
        "      if dsrt == 'Yes':\n",
        "        if veg =='Yes':\n",
        "          new_u_features[2] -= 0.2\n",
        "          new_u_features[1] += 0.2\n",
        "        else:\n",
        "          new_u_features[2] += 0.2\n",
        "          new_u_features[1] += 0.2\n",
        "      else:\n",
        "        new_u_features[2] -= 0.5\n",
        "        new_u_features[1] -= 0.5\n",
        "        sum = np.sum(new_u_features)\n",
        "        for i in range(len(new_u_features)):\n",
        "          new_u_features[i] = new_u_features[i]/sum\n",
        "      new_u_features = csr_matrix(new_u_features)\n",
        "      user_features = csr_matrix(vstack([new_u_features,user_features]))\n",
        "      return out\n",
        "  else:\n",
        "    if name not in name_dict: \n",
        "      warning = 'You have not registered yet. \\n'\n",
        "      warning += '------------------------------\\n'\n",
        "      warning += 'Please check the New to FuKKaKukku checkbox to register.'\n",
        "      return warning\n",
        "    else:  \n",
        "      user_id = name_dict[name]\n",
        "      rec = recommendation(hybrid,interactions,user_id,item_dict,threshold = 3)\n",
        "      greet = 'Hello {}! Welcome to FuKaKukku! \\n'.format(name)\n",
        "      greet += rec\n",
        "      return greet"
      ],
      "execution_count": 23,
      "outputs": []
    },
    {
      "cell_type": "markdown",
      "metadata": {
        "id": "tbbrL7pNY7MN"
      },
      "source": [
        "##  Demo UI using Gradio\n",
        "<br>\n",
        "\n",
        "#### How to use:\n",
        "- For new users:\n",
        "  - Tick *New to FuKaKukku* checkbox and type your new user name and check the other checkboxes to describe yourself.\n",
        "  - Submit to register\n",
        "  - Untick *New to FuKaKukku* and Re-submit\n",
        "  - The Recommender System will recommend items you might like.\n",
        "- For registered users:\n",
        "  - Type your username and ignore the other boxes since they only serve the purpose of create an initial user embedding.\n",
        "  - Submit and the Recommender System will do the rest.\n",
        "<br>\n",
        " \n",
        " ##### Of course this demo is solely for demo purpose, as the name suggested. We can not rate items. But we can input data using csv file and the functions under this interface.\n",
        "\n"
      ]
    },
    {
      "cell_type": "code",
      "metadata": {
        "colab": {
          "base_uri": "https://localhost:8080/",
          "height": 640
        },
        "id": "C-cYw-t1yyOD",
        "outputId": "22335317-e78b-49d7-fe1e-e6a9d1ca3689"
      },
      "source": [
        "iface = gr.Interface(\n",
        "  fn=recommend, \n",
        "  inputs=[gr.inputs.Checkbox(label='New to FukkaKukku?'),\n",
        "          gr.inputs.Textbox(label='Username:'),\n",
        "          gr.inputs.Radio(['Yes','No'], label='Are you a vegetarian:'),\n",
        "          gr.inputs.Radio(['Yes','No'], label='Do you want a Healthy dish:'),\n",
        "          gr.inputs.Radio(['Yes','No'], label='Do you want a main dish:')\n",
        "          ], \n",
        "  outputs=[gr.outputs.Textbox(label='Welcome')],\n",
        "  title='Welcome to FuKaKukku'\n",
        "  )\n",
        "iface.launch()"
      ],
      "execution_count": 24,
      "outputs": [
        {
          "output_type": "stream",
          "text": [
            "Colab notebook detected. To show errors in colab notebook, set `debug=True` in `launch()`\n",
            "This share link will expire in 24 hours. If you need a permanent link, visit: https://gradio.app/introducing-hosted (NEW!)\n",
            "Running on External URL: https://25441.gradio.app\n",
            "Interface loading below...\n"
          ],
          "name": "stdout"
        },
        {
          "output_type": "display_data",
          "data": {
            "text/html": [
              "\n",
              "        <iframe\n",
              "            width=\"1000\"\n",
              "            height=\"500\"\n",
              "            src=\"https://25441.gradio.app\"\n",
              "            frameborder=\"0\"\n",
              "            allowfullscreen\n",
              "        ></iframe>\n",
              "        "
            ],
            "text/plain": [
              "<IPython.lib.display.IFrame at 0x7f88da2eadd0>"
            ]
          },
          "metadata": {
            "tags": []
          }
        },
        {
          "output_type": "execute_result",
          "data": {
            "text/plain": [
              "(<Flask 'gradio.networking'>,\n",
              " 'http://127.0.0.1:7860/',\n",
              " 'https://25441.gradio.app')"
            ]
          },
          "metadata": {
            "tags": []
          },
          "execution_count": 24
        }
      ]
    },
    {
      "cell_type": "markdown",
      "metadata": {
        "id": "QjuYd_vMUKtS"
      },
      "source": [
        "#### New interactions data inputs Section\n"
      ]
    },
    {
      "cell_type": "code",
      "metadata": {
        "colab": {
          "base_uri": "https://localhost:8080/",
          "height": 419
        },
        "id": "rU1J6rE0CSkh",
        "outputId": "6b6735ec-3f35-4b01-fa83-6188cbf7fcf7"
      },
      "source": [
        "df_new = pd.read_csv('/content/drive/MyDrive/Dataset final project/Demo Data.csv')\n",
        "df_new"
      ],
      "execution_count": 26,
      "outputs": [
        {
          "output_type": "execute_result",
          "data": {
            "text/html": [
              "<div>\n",
              "<style scoped>\n",
              "    .dataframe tbody tr th:only-of-type {\n",
              "        vertical-align: middle;\n",
              "    }\n",
              "\n",
              "    .dataframe tbody tr th {\n",
              "        vertical-align: top;\n",
              "    }\n",
              "\n",
              "    .dataframe thead th {\n",
              "        text-align: right;\n",
              "    }\n",
              "</style>\n",
              "<table border=\"1\" class=\"dataframe\">\n",
              "  <thead>\n",
              "    <tr style=\"text-align: right;\">\n",
              "      <th></th>\n",
              "      <th>user_name</th>\n",
              "      <th>recipe_id</th>\n",
              "      <th>i</th>\n",
              "      <th>rating</th>\n",
              "      <th>Note</th>\n",
              "    </tr>\n",
              "  </thead>\n",
              "  <tbody>\n",
              "    <tr>\n",
              "      <th>0</th>\n",
              "      <td>Mai</td>\n",
              "      <td>186383</td>\n",
              "      <td>105140</td>\n",
              "      <td>4.0</td>\n",
              "      <td>Dessert</td>\n",
              "    </tr>\n",
              "    <tr>\n",
              "      <th>1</th>\n",
              "      <td>Mai</td>\n",
              "      <td>288683</td>\n",
              "      <td>38144</td>\n",
              "      <td>3.5</td>\n",
              "      <td>Dessert</td>\n",
              "    </tr>\n",
              "    <tr>\n",
              "      <th>2</th>\n",
              "      <td>Mai</td>\n",
              "      <td>60244</td>\n",
              "      <td>74743</td>\n",
              "      <td>0.0</td>\n",
              "      <td>Dessert</td>\n",
              "    </tr>\n",
              "    <tr>\n",
              "      <th>3</th>\n",
              "      <td>Mai</td>\n",
              "      <td>281968</td>\n",
              "      <td>139097</td>\n",
              "      <td>2.5</td>\n",
              "      <td>Dessert</td>\n",
              "    </tr>\n",
              "    <tr>\n",
              "      <th>4</th>\n",
              "      <td>Mai</td>\n",
              "      <td>293330</td>\n",
              "      <td>54812</td>\n",
              "      <td>3.0</td>\n",
              "      <td>Dessert</td>\n",
              "    </tr>\n",
              "    <tr>\n",
              "      <th>...</th>\n",
              "      <td>...</td>\n",
              "      <td>...</td>\n",
              "      <td>...</td>\n",
              "      <td>...</td>\n",
              "      <td>...</td>\n",
              "    </tr>\n",
              "    <tr>\n",
              "      <th>148</th>\n",
              "      <td>An</td>\n",
              "      <td>450716</td>\n",
              "      <td>92941</td>\n",
              "      <td>4.0</td>\n",
              "      <td>Veg dessert</td>\n",
              "    </tr>\n",
              "    <tr>\n",
              "      <th>149</th>\n",
              "      <td>An</td>\n",
              "      <td>78538</td>\n",
              "      <td>27487</td>\n",
              "      <td>5.0</td>\n",
              "      <td>Healthy</td>\n",
              "    </tr>\n",
              "    <tr>\n",
              "      <th>150</th>\n",
              "      <td>An</td>\n",
              "      <td>88906</td>\n",
              "      <td>101591</td>\n",
              "      <td>2.0</td>\n",
              "      <td>Healthy</td>\n",
              "    </tr>\n",
              "    <tr>\n",
              "      <th>151</th>\n",
              "      <td>An</td>\n",
              "      <td>188204</td>\n",
              "      <td>156487</td>\n",
              "      <td>3.0</td>\n",
              "      <td>Healthy</td>\n",
              "    </tr>\n",
              "    <tr>\n",
              "      <th>152</th>\n",
              "      <td>An</td>\n",
              "      <td>211438</td>\n",
              "      <td>101049</td>\n",
              "      <td>3.5</td>\n",
              "      <td>Healthy</td>\n",
              "    </tr>\n",
              "  </tbody>\n",
              "</table>\n",
              "<p>153 rows × 5 columns</p>\n",
              "</div>"
            ],
            "text/plain": [
              "    user_name  recipe_id       i  rating         Note\n",
              "0         Mai     186383  105140     4.0      Dessert\n",
              "1         Mai     288683   38144     3.5      Dessert\n",
              "2         Mai      60244   74743     0.0      Dessert\n",
              "3         Mai     281968  139097     2.5      Dessert\n",
              "4         Mai     293330   54812     3.0      Dessert\n",
              "..        ...        ...     ...     ...          ...\n",
              "148        An     450716   92941     4.0  Veg dessert\n",
              "149        An      78538   27487     5.0      Healthy\n",
              "150        An      88906  101591     2.0      Healthy\n",
              "151        An     188204  156487     3.0      Healthy\n",
              "152        An     211438  101049     3.5      Healthy\n",
              "\n",
              "[153 rows x 5 columns]"
            ]
          },
          "metadata": {
            "tags": []
          },
          "execution_count": 26
        }
      ]
    },
    {
      "cell_type": "markdown",
      "metadata": {
        "id": "q8rP8i6naQ1f"
      },
      "source": [
        "##### Visualize Demo Data:\n",
        "Link to demo data: [click here](https://docs.google.com/spreadsheets/d/ohd2GuRR8L2ebJfp2BnZj9aILw40IRqQvJB-iD6acA/edit#gid=20253765)"
      ]
    },
    {
      "cell_type": "code",
      "metadata": {
        "id": "tGJnPn-dDdCG"
      },
      "source": [
        "def user_update(model,interactions,user_features,new_df,name_col,i_col,rate_col,user_dict):\n",
        "  '''\n",
        "  This function updates rating values of registered users and re-compute user embedding\n",
        "  Remember to register all the name in the data csv file before call this function\n",
        "  '''\n",
        "  username = new_df[name_col].values\n",
        "  users = []\n",
        "  for i in username:\n",
        "    if len(users)==0:\n",
        "      users.append(i)\n",
        "    else:\n",
        "      if i not in users:\n",
        "        users.append(i)\n",
        "        \n",
        "\n",
        "  for n in users:\n",
        "    user_id = name_dict[str(n)]\n",
        "    u = user_dict[user_id]\n",
        "    u_rating = np.zeros(shape=(interactions.shape[1]))\n",
        "    df_user = new_df.loc[new_df[name_col]==n]\n",
        "    item_i = df_user[i_col].values\n",
        "    rating = df_user[rate_col].values\n",
        "    for i in range(len(item_i)):\n",
        "      u_rating[item_i[i]] = rating[i]\n",
        "    interactions[u,:] = csr_matrix(u_rating)\n",
        "    \n",
        "    type_item_list = []\n",
        "    u_embed = []\n",
        "    for i in item_i: \n",
        "      df = df_PP_recipe.loc[df_PP_recipe['i']==i]\n",
        "      type_item_list.append(df['food types'].values[0])\n",
        "    sum_rating = np.sum(rating)\n",
        "    for j in labels:\n",
        "      sum_type_rating = 0 \n",
        "      embed_value = 0\n",
        "      if j not in type_item_list:\n",
        "        u_embed.append(0)\n",
        "      else:\n",
        "        for index in range(len(type_item_list)):\n",
        "          if j == type_item_list[index]:    \n",
        "              sum_type_rating += rating[index]\n",
        "        if sum ==0:\n",
        "          embed_value -= 0.\n",
        "        else:\n",
        "          embed_value = sum_type_rating/sum\n",
        "        u_embed.append(embed_value)\n",
        "    if np.sum(u_embed) != 1:\n",
        "        u_embed = np.array(u_embed)\n",
        "        fill_value =  - np.sum(u_embed)\n",
        "        zeros = np.where(u_embed==0)[0]\n",
        "        fill_value = fill_value / len(zeros)\n",
        "        u_embed = np.where(u_embed==0,fill_value,u_embed)\n",
        "    user_features[u,:] = csr_matrix(u_embed)\n",
        "\n",
        "\n",
        "  model.fit(interactions,item_features=item_features,user_features=user_features,epochs=5,num_threads=4,verbose = True)   \n",
        "\n",
        "  print('Updated')\n",
        "  return interactions, user_features, model"
      ],
      "execution_count": 25,
      "outputs": []
    },
    {
      "cell_type": "code",
      "metadata": {
        "id": "93ESw5cLOitp"
      },
      "source": [
        "user_update(hybrid,interactions,user_features,df_new,'user_name','i','rating',user_dict)"
      ],
      "execution_count": null,
      "outputs": []
    },
    {
      "cell_type": "markdown",
      "metadata": {
        "id": "fx5J9g_bls2N"
      },
      "source": [
        "###### Reset interactions, user_dict, name_dict in case something gone wrong\n"
      ]
    },
    {
      "cell_type": "code",
      "metadata": {
        "id": "-FJTYvool6NQ"
      },
      "source": [
        "interactions = csr_matrix((df_train_rating[\"rating\"], (row, col)), \\\n",
        "                           shape=(user_c.categories.size,item_c.categories.size))\n",
        "user_dict = create_user_dict(df_train_rating,'user_id','u')\n",
        "name_dict = {}\n",
        "user_features = csr_matrix(df_u_embed)"
      ],
      "execution_count": null,
      "outputs": []
    }
  ]
}